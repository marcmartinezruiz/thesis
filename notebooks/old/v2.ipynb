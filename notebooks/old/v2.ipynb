{
 "cells": [
  {
   "cell_type": "code",
   "execution_count": null,
   "metadata": {},
   "outputs": [],
   "source": [
    "import Pkg\n",
    "#Pkg.add(\"MathOptInterface\")\n",
    "#Pkg.add(\"GLPK\")\n",
    "Pkg.activate(@__DIR__)\n",
    "Pkg.instantiate()"
   ]
  },
  {
   "cell_type": "code",
   "execution_count": null,
   "metadata": {},
   "outputs": [],
   "source": [
    "using JuMP\n",
    "using MathOptInterface # Replaces MathProgBase\n",
    "# shortcuts\n",
    "const MOI = MathOptInterface\n",
    "const MOIU = MathOptInterface.Utilities\n",
    "\n",
    "using GLPK # Loading the GLPK module for using its solver"
   ]
  },
  {
   "cell_type": "code",
   "execution_count": null,
   "metadata": {},
   "outputs": [],
   "source": [
    "include(\"../src/read_data.jl\")\n",
    "include(\"../JuMP/main_JuMP.jl\")"
   ]
  },
  {
   "cell_type": "code",
   "execution_count": null,
   "metadata": {},
   "outputs": [],
   "source": [
    "JJ=[j for j in 1:J]\n",
    "PP=[p for p in 1:P]\n",
    "CC=[c for c in 1:C]\n",
    "TT=[t for t in 0:H-1]\n",
    "QQ=[q for q in 1:Q]"
   ]
  },
  {
   "cell_type": "code",
   "execution_count": null,
   "metadata": {},
   "outputs": [],
   "source": [
    "model = Model(with_optimizer(GLPK.Optimizer, msg_lev = 4));  \n",
    "# Old syntax: model = Model(solver=GLPKSolverLP(msg_lev = 4)))"
   ]
  },
  {
   "cell_type": "code",
   "execution_count": null,
   "metadata": {},
   "outputs": [],
   "source": [
    "@variable(model, x[p=1:P, i=1:C, q=1:Q], Bin)\n",
    "@variable(model, y[j=1:J, q=1:Q, t=0:H-1], Bin)\n",
    "@variable(model, w[j=1:J, q=1:Q, t=0:H-1], Bin)\n",
    "@variable(model, flag[t=0:H-1], Bin)\n",
    "\n",
    "@variable(model, t_load[p=1:P, q=1:Q], lower_bound=0, upper_bound=H)\n",
    "\n",
    "\n",
    "#objective function\n",
    "@objective(model, Min, -sum(flag[t] for t in TT))"
   ]
  },
  {
   "cell_type": "code",
   "execution_count": null,
   "metadata": {},
   "outputs": [],
   "source": [
    "@constraint(model, [i=1:C], sum(sum(x[p,i,q] for q in subset_crane_pos(CTS, p, bj)) for p in subset_pos(PP, tasks_by_position, i)) == 1)\n",
    "@constraint(model, [p=1:P], sum(sum(x[p,i,q] for q in subset_crane_pos(CTS, p, bj)) for i in subset_pos(CC, tasks_by_position, p)) == 1)"
   ]
  },
  {
   "cell_type": "code",
   "execution_count": null,
   "metadata": {},
   "outputs": [],
   "source": [
    "@constraint(model, [t=0:H-1, q=1:Q], sum(y[j,q,t] for j in JJ) == 1)\n",
    "@constraint(model, [t=0:H-1, j=1:J], sum(y[j,q,t] for q in QQ) <= 1)"
   ]
  },
  {
   "cell_type": "code",
   "execution_count": null,
   "metadata": {},
   "outputs": [],
   "source": [
    "for i = 1:C\n",
    "    for p = 1:P\n",
    "        for q in setdiff(Set(QQ),Set(subset_crane_pos(CTS, p, bj)))\n",
    "            @constraint(model, x[p,i,q] == 0)\n",
    "        end\n",
    "    end\n",
    "end\n",
    "\n",
    "for t = 0:H-1\n",
    "    for q = 1:Q\n",
    "        for j in setdiff(Set(JJ),Set(subset_bay(CTS, q)))\n",
    "            @constraint(model, y[j,q,t] == 0)\n",
    "        end\n",
    "    end\n",
    "end"
   ]
  },
  {
   "cell_type": "code",
   "execution_count": null,
   "metadata": {},
   "outputs": [],
   "source": [
    "@constraint(model, [t=0:H-1, q=1:Q, s=1:Q, j=2:J], 1-y[j,q,t] >= sum(y[l,s,t] for l in collect(max(1,j-d):j-1)))\n",
    "@constraint(model, [t=0:H-1, q=1:Q, s=1:Q, j=1:J-1], 1-y[j,q,t] >= sum(y[l,s,t] for l in collect(j+1:min(j+d,J))))\n",
    "@constraint(model, [t=0:H-1, q=1:Q-1, j=1:J-1], y[j,q,t] <= sum(y[l,q+1,t] for l in collect(j+1:J)))\n",
    "@constraint(model, [t=0:H-1, q=2:Q, j=2:J], y[j,q,t] <= sum(y[l,q-1,t] for l in collect(1:j-1)))"
   ]
  },
  {
   "cell_type": "code",
   "execution_count": null,
   "metadata": {},
   "outputs": [],
   "source": [
    "for t = 0:H-1\n",
    "    for q = 1:Q\n",
    "        for j in subset_bay(CTS, q)\n",
    "            @constraint(model, w[j,q,t] <= y[j,q,t])\n",
    "        end\n",
    "    end\n",
    "end\n",
    "\n",
    "for t = 0:H-1\n",
    "    for p = 1:P\n",
    "        for q in subset_crane_pos(CTS, p, bj)\n",
    "            @constraint(model, sum(x[p,i,q] for i in subset_pos(CC, tasks_by_position, p)) <= w[bj[p],q,t])\n",
    "        end\n",
    "    end\n",
    "end\n",
    "\n",
    "for p = 1:P\n",
    "    for pp in prec[p]\n",
    "        @constraint(model, sum(t_load[p,q] for q in subset_crane_pos(CTS, p, bj)) - sum(t_load[pp,q] for q in subset_crane_pos(CTS, pp, bj)) >= 2*sum(sum(task_times[p,i]*x[p,i,q] for i in subset_pos(CC, tasks_by_position, p) for q in subset_crane_pos(CTS, p ,bj))))\n",
    "    end\n",
    "    @constraint(model, sum(t_load[p,q] for q in subset_crane_pos(CTS, p, bj)) >= 2*sum(sum(task_times[p,i]*x[p,i,q] for i in subset_pos(CC, tasks_by_position, p) for q in subset_crane_pos(CTS, p ,bj))))\n",
    "end    "
   ]
  },
  {
   "cell_type": "code",
   "execution_count": null,
   "metadata": {},
   "outputs": [],
   "source": [
    "@constraint(model, [t=0:H-1], flag[t] <= (sum(sum(sum(w[j,q,l] for q in QQ) for j in JJ) for l in collect(1:t)))/CTS.P)"
   ]
  },
  {
   "cell_type": "markdown",
   "metadata": {},
   "source": [
    "## Solution"
   ]
  },
  {
   "cell_type": "code",
   "execution_count": null,
   "metadata": {},
   "outputs": [],
   "source": [
    "JuMP.optimize!(model) # Old syntax: status = JuMP.solve(model)"
   ]
  },
  {
   "cell_type": "code",
   "execution_count": null,
   "metadata": {},
   "outputs": [],
   "source": [
    "sol_x = Dict{Int, Array}()\n",
    "for p=1:P\n",
    "    for i=1:C\n",
    "        for q=1:Q\n",
    "            if JuMP.value.(x)[p,i,q] == 1\n",
    "                if haskey(sol_x, q) == false\n",
    "                    sol_x[q] = Array{NamedTuple{(:pos, :cont),Tuple{Int64,Int64}}, 1}()\n",
    "                end\n",
    "                push!(sol_x[q], (pos=p, cont=i))\n",
    "            end                \n",
    "        end\n",
    "    end\n",
    "end\n",
    "\n",
    "sol_x[1]"
   ]
  },
  {
   "cell_type": "code",
   "execution_count": null,
   "metadata": {},
   "outputs": [],
   "source": [
    "sol_x[2]"
   ]
  },
  {
   "cell_type": "code",
   "execution_count": null,
   "metadata": {},
   "outputs": [],
   "source": [
    "sol_t = JuMP.value.(t_load)"
   ]
  },
  {
   "cell_type": "code",
   "execution_count": null,
   "metadata": {},
   "outputs": [],
   "source": [
    "sol_y = Dict{Int, Array}()\n",
    "for t=0:H-1\n",
    "    for j=1:J\n",
    "        for q=1:Q\n",
    "            if JuMP.value.(y)[j,q,t] == 1\n",
    "                if haskey(sol_y, q) == false\n",
    "                    sol_y[q] = Array{NamedTuple{(:time, :bay),Tuple{Int64,Int64}}, 1}()\n",
    "                end\n",
    "                push!(sol_y[q], (time=t, bay=j))\n",
    "            end                \n",
    "        end\n",
    "    end\n",
    "end\n",
    "\n",
    "sol_y[1]"
   ]
  },
  {
   "cell_type": "code",
   "execution_count": null,
   "metadata": {},
   "outputs": [],
   "source": [
    "sol_y[2]"
   ]
  },
  {
   "cell_type": "code",
   "execution_count": null,
   "metadata": {},
   "outputs": [],
   "source": [
    "flag = JuMP.value.(flag)"
   ]
  },
  {
   "cell_type": "code",
   "execution_count": null,
   "metadata": {},
   "outputs": [],
   "source": []
  }
 ],
 "metadata": {
  "kernelspec": {
   "display_name": "Julia 1.3.1",
   "language": "julia",
   "name": "julia-1.3"
  },
  "language_info": {
   "file_extension": ".jl",
   "mimetype": "application/julia",
   "name": "julia",
   "version": "1.3.1"
  }
 },
 "nbformat": 4,
 "nbformat_minor": 4
}
