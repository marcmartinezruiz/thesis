{
 "cells": [
  {
   "cell_type": "code",
   "execution_count": null,
   "metadata": {},
   "outputs": [],
   "source": [
    "import Pkg\n",
    "#Pkg.add(\"MathOptInterface\")\n",
    "#Pkg.add(\"GLPK\")\n",
    "Pkg.activate(@__DIR__)\n",
    "Pkg.instantiate()"
   ]
  },
  {
   "cell_type": "code",
   "execution_count": null,
   "metadata": {},
   "outputs": [],
   "source": [
    "using JuMP\n",
    "using MathOptInterface # Replaces MathProgBase\n",
    "# shortcuts\n",
    "const MOI = MathOptInterface\n",
    "const MOIU = MathOptInterface.Utilities\n",
    "\n",
    "using GLPK # Loading the GLPK module for using its solver"
   ]
  },
  {
   "cell_type": "code",
   "execution_count": null,
   "metadata": {},
   "outputs": [],
   "source": [
    "include(\"../src/read_data.jl\")\n",
    "include(\"../JuMP/main_JuMP.jl\")"
   ]
  },
  {
   "cell_type": "code",
   "execution_count": null,
   "metadata": {},
   "outputs": [],
   "source": [
    "JJ=[j for j in 1:J]\n",
    "PP=[p for p in 1:P]\n",
    "CC=[c for c in 1:C]\n",
    "TT=[t for t in 0:H-1]\n",
    "QQ=[q for q in 1:Q]"
   ]
  },
  {
   "cell_type": "code",
   "execution_count": null,
   "metadata": {},
   "outputs": [],
   "source": [
    "model = Model(with_optimizer(GLPK.Optimizer, msg_lev = 4));  \n",
    "# Old syntax: model = Model(solver=GLPKSolverLP(msg_lev = 4)))"
   ]
  },
  {
   "cell_type": "code",
   "execution_count": null,
   "metadata": {},
   "outputs": [],
   "source": [
    "@variable(model, x[p=1:P, i=1:C, q=1:Q], Bin)\n",
    "@variable(model, tc[p=1:P, q=1:Q], lower_bound=0, upper_bound=H)\n",
    "@variable(model, y[t=0:H-1, j=1:J, q=1:Q], Bin)\n",
    "\n",
    "@variable(model, Start[q=1:Q], lower_bound=0, upper_bound=H)\n",
    "@variable(model, End[q=1:Q], lower_bound=0, upper_bound=H)\n",
    "\n",
    "#objective function\n",
    "@objective(model, Min, sum(End[q] for q in QQ))"
   ]
  },
  {
   "cell_type": "code",
   "execution_count": null,
   "metadata": {},
   "outputs": [],
   "source": [
    "@constraint(model, [i=1:C], sum(sum(x[p,i,q] for q in subset_crane_pos(CTS, p, bj)) for p in subset_pos(PP, tasks_by_position, i)) == 1)\n",
    "@constraint(model, [p=1:P], sum(sum(x[p,i,q] for q in subset_crane_pos(CTS, p, bj)) for i in subset_pos(CC, tasks_by_position, p)) == 1)"
   ]
  },
  {
   "cell_type": "code",
   "execution_count": null,
   "metadata": {},
   "outputs": [],
   "source": [
    "for i = 1:C\n",
    "    for p = 1:P\n",
    "        for q in setdiff(Set(QQ),Set(subset_crane_pos(CTS, p, bj)))\n",
    "            @constraint(model, x[p,i,q] == 0)\n",
    "        end\n",
    "    end\n",
    "end"
   ]
  },
  {
   "cell_type": "code",
   "execution_count": null,
   "metadata": {},
   "outputs": [],
   "source": [
    "for p = 1:P\n",
    "    for q in subset_crane_pos(CTS, p, bj)\n",
    "        @constraint(model, tc[p,q] <= CTS.H*sum(x[p,i,q] for i in subset_pos(CC, tasks_by_position, p)))\n",
    "        @constraint(model, tc[p,q] >= 2*sum((task_times[p,i]*x[p,i,q]) for i in subset_pos(CC, tasks_by_position, p)))\n",
    "    end\n",
    "end"
   ]
  },
  {
   "cell_type": "code",
   "execution_count": null,
   "metadata": {},
   "outputs": [],
   "source": [
    "#for q = 1:Q\n",
    "   # for p = 1:P\n",
    "   #     @constraint(model, tc[p,q]-2*sum((task_times[p,i]*x[p,i,q]) for i in CC)+CTS.H*(1-sum(x[p,i,q] for i in subset_pos(CC, tasks_by_position, p))) >= Start[q])\n",
    "  #  end\n",
    "#end\n",
    "\n",
    "for q = 1:Q\n",
    "    for p = 1:P\n",
    "        @constraint(model, tc[p,q] >= Start[q])\n",
    "    end\n",
    "end"
   ]
  },
  {
   "cell_type": "code",
   "execution_count": null,
   "metadata": {},
   "outputs": [],
   "source": [
    "for i = 1:C\n",
    "    for p in subset_pos(PP, tasks_by_position, i)\n",
    "        if length(prec[p]) > 0\n",
    "            for q = 1:Q\n",
    "                for pp in collect(intersect(Set(subset_pos_crane(CTS, q, bj)),Set(prec[p])))\n",
    "                    @constraint(model, 2*task_times[p,i] - CTS.H*(2-x[p,i,q]-sum(x[pp,ii,q] for ii in subset_pos(CC, tasks_by_position, pp))) <= tc[p,q] - tc[pp,q])\n",
    "                end\n",
    "            end\n",
    "        end\n",
    "    end\n",
    "end"
   ]
  },
  {
   "cell_type": "code",
   "execution_count": null,
   "metadata": {},
   "outputs": [],
   "source": [
    "for p = 1:P\n",
    "    if length(prec[p]) > 0\n",
    "        for ppp in sort(prec[p], rev=true)[1]\n",
    "            @constraint(model, sum(tc[p,q] for q in QQ) >= sum(tc[ppp,q] for q in QQ) - sum(task_times[ppp,i]*sum(x[ppp,i,q] for q in QQ) for i in subset_pos(CC, tasks_by_position, ppp)))\n",
    "            #@constraint(model, sum(tc[p,q] for q in QQ) >= sum(tc[ppp,q] for q in QQ))\n",
    "        end\n",
    "    end\n",
    "end"
   ]
  },
  {
   "cell_type": "code",
   "execution_count": null,
   "metadata": {},
   "outputs": [],
   "source": [
    "@constraint(model, [p=1:P, q=1:Q], tc[p,q] <= End[q])\n",
    "@constraint(model, [q=1:Q], Start[q] <= End[q])"
   ]
  },
  {
   "cell_type": "markdown",
   "metadata": {},
   "source": [
    "## Crane Constraints"
   ]
  },
  {
   "cell_type": "code",
   "execution_count": null,
   "metadata": {},
   "outputs": [],
   "source": [
    "#@constraint(model, [t=0:H-1, q=1:Q], sum(y[t,j,q] for j in JJ) == 1)\n",
    "@constraint(model, [t=0:H-1, j=1:J], sum(y[t,j,q] for q in QQ) == 1)"
   ]
  },
  {
   "cell_type": "code",
   "execution_count": null,
   "metadata": {},
   "outputs": [],
   "source": [
    "for t = 0:H-1\n",
    "    for q = 1:Q\n",
    "        for j in setdiff(Set(JJ),Set(subset_bay(CTS, q)))\n",
    "            @constraint(model, y[t,j,q] == 0)\n",
    "        end\n",
    "    end\n",
    "end"
   ]
  },
  {
   "cell_type": "code",
   "execution_count": null,
   "metadata": {},
   "outputs": [],
   "source": [
    "for t = 0:H-1\n",
    "    for p = 1:P\n",
    "        for q in subset_crane_pos(CTS, p, bj)\n",
    "            @constraint(model, tc[p,q] <= y[t,bj[p],q]*CTS.H)\n",
    "        end\n",
    "    end\n",
    "end"
   ]
  },
  {
   "cell_type": "code",
   "execution_count": null,
   "metadata": {},
   "outputs": [],
   "source": [
    "@constraint(model, [t=0:H-1, q=2:Q, j=1:q-1], y[t,j,q] == 0)\n",
    "@constraint(model, [t=0:H-1, q=1:Q-1, j=J-(Q-q)+1:J], y[t,j,q] == 0)"
   ]
  },
  {
   "cell_type": "code",
   "execution_count": null,
   "metadata": {},
   "outputs": [],
   "source": [
    "@constraint(model, [t=0:H-1, q=1:Q-1, j=1:J-1], y[t,j,q] <= sum(y[t,l,q+1] for l in collect(j+1:J)))\n",
    "@constraint(model, [t=0:H-1, q=2:Q, j=2:J], y[t,j,q] <= sum(y[t,l,q-1] for l in collect(1:j-1)))"
   ]
  },
  {
   "cell_type": "markdown",
   "metadata": {},
   "source": [
    "## Solution"
   ]
  },
  {
   "cell_type": "code",
   "execution_count": null,
   "metadata": {},
   "outputs": [],
   "source": [
    "JuMP.optimize!(model) # Old syntax: status = JuMP.solve(model)"
   ]
  },
  {
   "cell_type": "code",
   "execution_count": 20,
   "metadata": {},
   "outputs": [
    {
     "data": {
      "text/plain": [
       "6-element Array{NamedTuple{(:pos, :cont),Tuple{Int64,Int64}},1}:\n",
       " (pos = 1, cont = 2)\n",
       " (pos = 2, cont = 1)\n",
       " (pos = 3, cont = 3)\n",
       " (pos = 4, cont = 4)\n",
       " (pos = 5, cont = 6)\n",
       " (pos = 6, cont = 5)"
      ]
     },
     "execution_count": 20,
     "metadata": {},
     "output_type": "execute_result"
    }
   ],
   "source": [
    "sol_x = Dict{Int, Array}()\n",
    "for p=1:P\n",
    "    for i=1:C\n",
    "        for q=1:Q\n",
    "            if JuMP.value.(x)[p,i,q] == 1\n",
    "                if haskey(sol_x, q) == false\n",
    "                    sol_x[q] = Array{NamedTuple{(:pos, :cont),Tuple{Int64,Int64}}, 1}()\n",
    "                end\n",
    "                push!(sol_x[q], (pos=p, cont=i))\n",
    "            end                \n",
    "        end\n",
    "    end\n",
    "end\n",
    "\n",
    "sol_x[1]"
   ]
  },
  {
   "cell_type": "code",
   "execution_count": 21,
   "metadata": {},
   "outputs": [
    {
     "data": {
      "text/plain": [
       "4-element Array{NamedTuple{(:pos, :cont),Tuple{Int64,Int64}},1}:\n",
       " (pos = 7, cont = 7) \n",
       " (pos = 8, cont = 10)\n",
       " (pos = 9, cont = 9) \n",
       " (pos = 10, cont = 8)"
      ]
     },
     "execution_count": 21,
     "metadata": {},
     "output_type": "execute_result"
    }
   ],
   "source": [
    "sol_x[2]"
   ]
  },
  {
   "cell_type": "code",
   "execution_count": 22,
   "metadata": {},
   "outputs": [
    {
     "data": {
      "text/plain": [
       "10×2 Array{Float64,2}:\n",
       " 14.0   0.0\n",
       "  6.0   0.0\n",
       " 14.0   0.0\n",
       "  8.0   0.0\n",
       " 14.0   0.0\n",
       "  6.0   0.0\n",
       "  0.0  10.0\n",
       "  0.0   2.0\n",
       "  0.0  10.0\n",
       "  0.0   4.0"
      ]
     },
     "execution_count": 22,
     "metadata": {},
     "output_type": "execute_result"
    }
   ],
   "source": [
    "sol_t = JuMP.value.(tc)"
   ]
  },
  {
   "cell_type": "code",
   "execution_count": 23,
   "metadata": {},
   "outputs": [
    {
     "data": {
      "text/plain": [
       "228-element Array{NamedTuple{(:time, :bay),Tuple{Int64,Int64}},1}:\n",
       " (time = 0, bay = 1) \n",
       " (time = 0, bay = 2) \n",
       " (time = 0, bay = 3) \n",
       " (time = 1, bay = 1) \n",
       " (time = 1, bay = 2) \n",
       " (time = 1, bay = 3) \n",
       " (time = 2, bay = 1) \n",
       " (time = 2, bay = 2) \n",
       " (time = 2, bay = 3) \n",
       " (time = 3, bay = 1) \n",
       " (time = 3, bay = 2) \n",
       " (time = 3, bay = 3) \n",
       " (time = 4, bay = 1) \n",
       " ⋮                   \n",
       " (time = 72, bay = 1)\n",
       " (time = 72, bay = 2)\n",
       " (time = 72, bay = 3)\n",
       " (time = 73, bay = 1)\n",
       " (time = 73, bay = 2)\n",
       " (time = 73, bay = 3)\n",
       " (time = 74, bay = 1)\n",
       " (time = 74, bay = 2)\n",
       " (time = 74, bay = 3)\n",
       " (time = 75, bay = 1)\n",
       " (time = 75, bay = 2)\n",
       " (time = 75, bay = 3)"
      ]
     },
     "execution_count": 23,
     "metadata": {},
     "output_type": "execute_result"
    }
   ],
   "source": [
    "sol_y = Dict{Int, Array}()\n",
    "for t=0:H-1\n",
    "    for j=1:J\n",
    "        for q=1:Q\n",
    "            if JuMP.value.(y)[t,j,q] == 1\n",
    "                if haskey(sol_y, q) == false\n",
    "                    sol_y[q] = Array{NamedTuple{(:time, :bay),Tuple{Int64,Int64}}, 1}()\n",
    "                end\n",
    "                push!(sol_y[q], (time=t, bay=j))\n",
    "            end                \n",
    "        end\n",
    "    end\n",
    "end\n",
    "\n",
    "sol_y[1]"
   ]
  },
  {
   "cell_type": "code",
   "execution_count": 24,
   "metadata": {},
   "outputs": [
    {
     "data": {
      "text/plain": [
       "152-element Array{NamedTuple{(:time, :bay),Tuple{Int64,Int64}},1}:\n",
       " (time = 0, bay = 4) \n",
       " (time = 0, bay = 5) \n",
       " (time = 1, bay = 4) \n",
       " (time = 1, bay = 5) \n",
       " (time = 2, bay = 4) \n",
       " (time = 2, bay = 5) \n",
       " (time = 3, bay = 4) \n",
       " (time = 3, bay = 5) \n",
       " (time = 4, bay = 4) \n",
       " (time = 4, bay = 5) \n",
       " (time = 5, bay = 4) \n",
       " (time = 5, bay = 5) \n",
       " (time = 6, bay = 4) \n",
       " ⋮                   \n",
       " (time = 70, bay = 4)\n",
       " (time = 70, bay = 5)\n",
       " (time = 71, bay = 4)\n",
       " (time = 71, bay = 5)\n",
       " (time = 72, bay = 4)\n",
       " (time = 72, bay = 5)\n",
       " (time = 73, bay = 4)\n",
       " (time = 73, bay = 5)\n",
       " (time = 74, bay = 4)\n",
       " (time = 74, bay = 5)\n",
       " (time = 75, bay = 4)\n",
       " (time = 75, bay = 5)"
      ]
     },
     "execution_count": 24,
     "metadata": {},
     "output_type": "execute_result"
    }
   ],
   "source": [
    "sol_y[2]"
   ]
  },
  {
   "cell_type": "code",
   "execution_count": null,
   "metadata": {},
   "outputs": [],
   "source": []
  }
 ],
 "metadata": {
  "kernelspec": {
   "display_name": "Julia 1.3.1",
   "language": "julia",
   "name": "julia-1.3"
  },
  "language_info": {
   "file_extension": ".jl",
   "mimetype": "application/julia",
   "name": "julia",
   "version": "1.3.1"
  }
 },
 "nbformat": 4,
 "nbformat_minor": 4
}
