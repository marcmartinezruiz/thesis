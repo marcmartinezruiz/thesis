{
 "cells": [
  {
   "cell_type": "code",
   "execution_count": 1,
   "metadata": {},
   "outputs": [
    {
     "name": "stdout",
     "output_type": "stream",
     "text": [
      "\u001b[32m\u001b[1mActivating\u001b[22m\u001b[39m environment at `C:\\Users\\mmart\\Desktop\\TFM\\Julia\\notebooks\\Project.toml`\n"
     ]
    }
   ],
   "source": [
    "import Pkg\n",
    "#Pkg.add(\"Gurobi\")\n",
    "#Pkg.build(\"Gurobi\")\n",
    "#Pkg.add(\"DataFrames\")\n",
    "Pkg.activate(@__DIR__)\n",
    "Pkg.instantiate()"
   ]
  },
  {
   "cell_type": "code",
   "execution_count": 2,
   "metadata": {},
   "outputs": [
    {
     "name": "stdout",
     "output_type": "stream",
     "text": [
      "H0 = 40"
     ]
    },
    {
     "data": {
      "text/plain": [
       "Constants(10, 10, 5, 2, 265, 1, 1)"
      ]
     },
     "execution_count": 2,
     "metadata": {},
     "output_type": "execute_result"
    }
   ],
   "source": [
    "include(\"../src/read_data.jl\")\n",
    "include(\"../JuMP/main_JuMP.jl\")"
   ]
  },
  {
   "cell_type": "code",
   "execution_count": 3,
   "metadata": {},
   "outputs": [
    {
     "data": {
      "text/plain": [
       "clearance_travel_time (generic function with 1 method)"
      ]
     },
     "execution_count": 3,
     "metadata": {},
     "output_type": "execute_result"
    }
   ],
   "source": [
    "T=P+1\n",
    "PP=[p for p in 1:P]\n",
    "PPP=[p for p in 0:T]\n",
    "PP0=[p for p in 0:P]\n",
    "PPT=[p for p in 1:T]\n",
    "QQ=[q for q in 1:Q]\n",
    "CC=[c for c in 1:C]\n",
    "\n",
    "#create bj_dict\n",
    "bj_dict = Dict{Int, Array{Int,1}}()\n",
    "bj_init = [1,5]\n",
    "for p in PPP\n",
    "    l = Array{Int,1}()\n",
    "    for q in QQ\n",
    "        if p == 0\n",
    "            push!(l, bj_init[q])\n",
    "        elseif p == T\n",
    "            push!(l, 0)\n",
    "        else\n",
    "            push!(l, bj[p])\n",
    "        end\n",
    "    end\n",
    "    bj_dict[p] = l\n",
    "end\n",
    "\n",
    "function travel_time(current_bay::Int, target_bay::Int, CTS::Constants)\n",
    "    if current_bay == 0 || target_bay == 0\n",
    "        return(0)\n",
    "    else\n",
    "        return(abs(current_bay - target_bay)*CTS.tt)\n",
    "    end\n",
    "end\n",
    "\n",
    "function clearance_travel_time(i::Int, j::Int, v::Int, w::Int, bj_dict::Dict{Int, Array{Int,1}}, CTS::Constants)\n",
    "    delta = (CTS.delta + 1)*abs(v-w)\n",
    "    li = bj_dict[i][v]\n",
    "    lj = bj_dict[j][w]\n",
    "    if (v < w) && (i != j) && (li > lj - delta)\n",
    "        return((li - lj + delta)*CTS.tt)\n",
    "    elseif (v > w) && (i != j) && (li < lj + delta)\n",
    "        return((lj - li + delta)*CTS.tt)\n",
    "    else\n",
    "        return(0)\n",
    "    end\n",
    "end"
   ]
  },
  {
   "cell_type": "code",
   "execution_count": 4,
   "metadata": {},
   "outputs": [
    {
     "name": "stdout",
     "output_type": "stream",
     "text": [
      "Academic license - for non-commercial use only\n"
     ]
    },
    {
     "data": {
      "text/latex": [
       "$$ t_load_{11} $$"
      ],
      "text/plain": [
       "t_load[11]"
      ]
     },
     "execution_count": 4,
     "metadata": {},
     "output_type": "execute_result"
    }
   ],
   "source": [
    "using JuMP, Gurobi\n",
    "model = JuMP.direct_model(Gurobi.Optimizer(OutputFlag=0, Threads=4))\n",
    "\n",
    "\n",
    "#if positions p, s are performed consecutively by crane q\n",
    "@variable(model, x[p=0:T, s=0:T, q=1:Q], Bin)\n",
    "#if positions p is filled with container i\n",
    "@variable(model, w[p=0:T, i=1:C], Bin)\n",
    "#if position s starts after the completion time of task p\n",
    "@variable(model, z[p=1:P, s=1:P], Bin)\n",
    "\n",
    "#completion time of task p\n",
    "@variable(model, t_load[p=0:T], Int, lower_bound=0, upper_bound=CTS.H)\n",
    "#completion required time to perform task p\n",
    "@variable(model, t_task[p=0:T], lower_bound=0, upper_bound=CTS.H)\n",
    "#completion time of crane q\n",
    "@variable(model, t_crane[q=1:Q], lower_bound=0, upper_bound=CTS.H)\n",
    "#makespan\n",
    "#@variable(model, makespan, lower_bound=0, upper_bound=CTS.H)\n",
    "\n",
    "\n",
    "#objective function\n",
    "@objective(model, Min, 1*t_load[T] + 0*sum(t_crane[q] for q in QQ))\n",
    "#@objective(model, Min, t_load[T])"
   ]
  },
  {
   "cell_type": "code",
   "execution_count": 5,
   "metadata": {},
   "outputs": [
    {
     "data": {
      "text/latex": [
       "$ t_load_{11} \\leq 265.0 $"
      ],
      "text/plain": [
       "t_load[11] <= 265.0"
      ]
     },
     "execution_count": 5,
     "metadata": {},
     "output_type": "execute_result"
    }
   ],
   "source": [
    "@constraint(model, [p=0:T, q=1:Q], x[p,p,q] == 0)\n",
    "@constraint(model, [p=1:P], z[p,p] == 0)\n",
    "\n",
    "@constraint(model, t_load[0] == 0)\n",
    "@constraint(model, t_load[T] <= CTS.H)"
   ]
  },
  {
   "cell_type": "code",
   "execution_count": 6,
   "metadata": {},
   "outputs": [
    {
     "data": {
      "text/plain": [
       "10-element Array{ConstraintRef{Model,MathOptInterface.ConstraintIndex{MathOptInterface.ScalarAffineFunction{Float64},MathOptInterface.EqualTo{Float64}},ScalarShape},1}:\n",
       " -4 w[1,1] - 4 w[1,2] - 5 w[1,4] + t_task[1] == 0.0 \n",
       " -3 w[2,1] - 4 w[2,2] - 4 w[2,4] + t_task[2] == 0.0 \n",
       " -3 w[3,3] - 7 w[3,7] - 6 w[3,9] + t_task[3] == 0.0 \n",
       " -5 w[4,1] - 6 w[4,2] - 2 w[4,4] + t_task[4] == 0.0 \n",
       " -6 w[5,5] - 4 w[5,6] + t_task[5] == 0.0            \n",
       " -3 w[6,5] - 6 w[6,6] + t_task[6] == 0.0            \n",
       " -6 w[7,3] - 4 w[7,7] - 4 w[7,9] + t_task[7] == 0.0 \n",
       " -3 w[8,8] - w[8,10] + t_task[8] == 0.0             \n",
       " -10 w[9,3] - 4 w[9,7] - 2 w[9,9] + t_task[9] == 0.0\n",
       " -2 w[10,8] - 3 w[10,10] + t_task[10] == 0.0        "
      ]
     },
     "execution_count": 6,
     "metadata": {},
     "output_type": "execute_result"
    }
   ],
   "source": [
    "@constraint(model, t_task[0] == 0)\n",
    "@constraint(model, t_task[T] == 0)\n",
    "\n",
    "@constraint(model, [p=1:P], t_task[p] == sum(task_times[p,i]*w[p,i] for i in subset_pos(CC, tasks_by_position, p)))"
   ]
  },
  {
   "cell_type": "code",
   "execution_count": 7,
   "metadata": {},
   "outputs": [
    {
     "data": {
      "text/plain": [
       "10-element Array{ConstraintRef{Model,MathOptInterface.ConstraintIndex{MathOptInterface.ScalarAffineFunction{Float64},MathOptInterface.EqualTo{Float64}},ScalarShape},1}:\n",
       " w[1,1] + w[1,2] + w[1,4] == 1.0\n",
       " w[2,1] + w[2,2] + w[2,4] == 1.0\n",
       " w[3,3] + w[3,7] + w[3,9] == 1.0\n",
       " w[4,1] + w[4,2] + w[4,4] == 1.0\n",
       " w[5,5] + w[5,6] == 1.0         \n",
       " w[6,5] + w[6,6] == 1.0         \n",
       " w[7,3] + w[7,7] + w[7,9] == 1.0\n",
       " w[8,8] + w[8,10] == 1.0        \n",
       " w[9,3] + w[9,7] + w[9,9] == 1.0\n",
       " w[10,8] + w[10,10] == 1.0      "
      ]
     },
     "execution_count": 7,
     "metadata": {},
     "output_type": "execute_result"
    }
   ],
   "source": [
    "@constraint(model, [i=1:C], w[0,i] == 0)\n",
    "@constraint(model, [i=1:C], w[T,i] == 0)\n",
    "\n",
    "@constraint(model, [i=1:C], sum(w[p,i] for p in subset_pos(PP, tasks_by_position, i)) == 1)\n",
    "@constraint(model, [p=1:P], sum(w[p,i] for i in subset_pos(CC, tasks_by_position, p)) == 1)"
   ]
  },
  {
   "cell_type": "code",
   "execution_count": 8,
   "metadata": {},
   "outputs": [
    {
     "data": {
      "text/plain": [
       "2-element Array{ConstraintRef{Model,MathOptInterface.ConstraintIndex{MathOptInterface.ScalarAffineFunction{Float64},MathOptInterface.LessThan{Float64}},ScalarShape},1}:\n",
       " -t_load[11] + t_crane[1] <= 0.0\n",
       " -t_load[11] + t_crane[2] <= 0.0"
      ]
     },
     "execution_count": 8,
     "metadata": {},
     "output_type": "execute_result"
    }
   ],
   "source": [
    "@constraint(model, [q=1:Q], t_crane[q] <= t_load[T])"
   ]
  },
  {
   "cell_type": "code",
   "execution_count": 9,
   "metadata": {},
   "outputs": [
    {
     "data": {
      "text/plain": [
       "2-element Array{ConstraintRef{Model,MathOptInterface.ConstraintIndex{MathOptInterface.ScalarAffineFunction{Float64},MathOptInterface.EqualTo{Float64}},ScalarShape},1}:\n",
       " x[0,11,1] + x[1,11,1] + x[2,11,1] + x[3,11,1] + x[4,11,1] + x[5,11,1] + x[6,11,1] + x[7,11,1] + x[8,11,1] + x[9,11,1] + x[10,11,1] == 1.0\n",
       " x[0,11,2] + x[1,11,2] + x[2,11,2] + x[3,11,2] + x[4,11,2] + x[5,11,2] + x[6,11,2] + x[7,11,2] + x[8,11,2] + x[9,11,2] + x[10,11,2] == 1.0"
      ]
     },
     "execution_count": 9,
     "metadata": {},
     "output_type": "execute_result"
    }
   ],
   "source": [
    "@constraint(model, [q=1:Q], sum(x[0,s,q] for s in PPT) == 1)\n",
    "@constraint(model, [q=1:Q], sum(x[p,T,q] for p in PP0) == 1)"
   ]
  },
  {
   "cell_type": "code",
   "execution_count": 10,
   "metadata": {},
   "outputs": [],
   "source": [
    "@constraint(model, [p=1:P], sum(sum(x[p,s,q] for s in PPT) for q in QQ) == 1)\n",
    "\n",
    "for p in PP\n",
    "    for q in QQ\n",
    "        @constraint(model, sum(x[s,p,q] for s in PP0) - sum(x[p,s,q] for s in PPT) == 0)\n",
    "    end\n",
    "end"
   ]
  },
  {
   "cell_type": "code",
   "execution_count": 11,
   "metadata": {},
   "outputs": [],
   "source": [
    "for s in PP\n",
    "    for p in prec[s]\n",
    "        @constraint(model, t_load[p] + 2*t_task[s] - t_load[s] <= 0)\n",
    "        @constraint(model, z[p,s] + z[s,p] == 1)\n",
    "    end\n",
    "end"
   ]
  },
  {
   "cell_type": "code",
   "execution_count": 12,
   "metadata": {},
   "outputs": [],
   "source": [
    "for p in PPP\n",
    "    for s in PPP\n",
    "        for q in setdiff(Set(QQ), Set(subset_crane_pos(CTS, p, bj)), Set(subset_crane_pos(CTS, s, bj)))\n",
    "            @constraint(model, x[p,s,q]==0)\n",
    "        end\n",
    "        if p != s\n",
    "            for q in QQ\n",
    "                @constraint(model, t_load[p] + travel_time(bj_dict[p][q], bj_dict[s][q], CTS) + 2*t_task[s] - t_load[s] <= CTS.H*(1-x[p,s,q]))\n",
    "            end\n",
    "        end\n",
    "    end\n",
    "end\n",
    "\n",
    "for p in PP\n",
    "    for s in PP\n",
    "        if p != s\n",
    "            @constraint(model, t_load[p] + 2*t_task[s] - t_load[s] <= CTS.H*(1-z[p,s]))\n",
    "            @constraint(model, t_load[s] - 2*t_task[s] - t_load[p] <= CTS.H*z[p,s])\n",
    "\n",
    "            #if bj_dict[p] == bj_dict[s]\n",
    "            #    custom_set=Array{Int,1}()\n",
    "            #    custom_set = collect(setdiff(Set(PP0),Set(bay_to_pos(bj_dict[p], bj))))\n",
    "            #    @constraint(model, t_load[p] + 2*t_task[s] - t_load[s] + CTS.tt*sum(sum(x[u,s,q] for u in custom_set) for q in QQ) <= CTS.H*(1-z[p,s]))\n",
    "            #    @constraint(model, t_load[s] - 2*t_task[s] - t_load[p] + CTS.tt*sum(sum(x[u,s,q] for u in custom_set) for q in QQ) <= CTS.H*z[p,s])\n",
    "            #end\n",
    "        end\n",
    "    end\n",
    "end"
   ]
  },
  {
   "cell_type": "code",
   "execution_count": 13,
   "metadata": {},
   "outputs": [],
   "source": [
    "#@constraint(model, [p=1:P, q=1:Q], t_load[p] + travel_time(p, bj_start_end[1, q], CTS) - t_crane[q] <= CTS.H*(1-x[p,T,q]))\n",
    "#@constraint(model, [p=1:P, q=1:Q], t_load[p] - t_crane[q] <= CTS.H*(1-x[p,T,q]))\n",
    "\n",
    "for s in PPP\n",
    "    for q in QQ\n",
    "        @constraint(model, travel_time(bj_dict[0][q], bj_dict[s][q], CTS) + 2*t_task[s] - t_load[s] <= CTS.H*(1-x[0,s,q]))\n",
    "    end\n",
    "end\n",
    "#@constraint(model, [s=1:P, q=1:Q], t_task[s] - t_load[s] <= CTS.H*(1-x[0,s,q]))"
   ]
  },
  {
   "cell_type": "code",
   "execution_count": 14,
   "metadata": {},
   "outputs": [],
   "source": [
    "for p in PP\n",
    "    for s in PP\n",
    "        for v in QQ\n",
    "            for w in QQ\n",
    "                if p < s && clearance_travel_time(p, s, v, w, bj_dict, CTS) > 0\n",
    "                    @constraint(model, sum(x[u,p,v] for u in PP0) + sum(x[u,s,w] for u in PP0) <= 1 + z[p,s] + z[s,p])\n",
    "                    @constraint(model, t_load[p] + clearance_travel_time(p, s, v, w, bj_dict, CTS) + 2*t_task[s] - t_load[s] <= CTS.H*(3 - z[p,s] - sum(x[u,p,v] for u in PP0) - sum(x[u,s,w] for u in PP0)))\n",
    "                    @constraint(model, t_load[s] + clearance_travel_time(p, s, v, w, bj_dict, CTS) + 2*t_task[p] - t_load[p] <= CTS.H*(3 - z[s,p] - sum(x[u,p,v] for u in PP0) - sum(x[u,s,w] for u in PP0)))\n",
    "                end\n",
    "            end\n",
    "        end\n",
    "    end\n",
    "end"
   ]
  },
  {
   "cell_type": "markdown",
   "metadata": {},
   "source": [
    "## Solution"
   ]
  },
  {
   "cell_type": "code",
   "execution_count": 15,
   "metadata": {},
   "outputs": [
    {
     "name": "stdout",
     "output_type": "stream",
     "text": [
      "100.577528 seconds (261.12 k allocations: 13.204 MiB)\n"
     ]
    }
   ],
   "source": [
    "@time JuMP.optimize!(model) # Old syntax: status = JuMP.solve(model)"
   ]
  },
  {
   "cell_type": "code",
   "execution_count": 16,
   "metadata": {},
   "outputs": [
    {
     "data": {
      "text/plain": [
       "34.0"
      ]
     },
     "execution_count": 16,
     "metadata": {},
     "output_type": "execute_result"
    }
   ],
   "source": [
    "makespan = JuMP.value.(t_load)[T]"
   ]
  },
  {
   "cell_type": "code",
   "execution_count": 17,
   "metadata": {},
   "outputs": [
    {
     "data": {
      "text/plain": [
       "6-element Array{NamedTuple{(:start_time, :pos, :next_pos, :qc),NTuple{4,Int64}},1}:\n",
       " (start_time = 0, pos = 0, next_pos = 2, qc = 1)  \n",
       " (start_time = 0, pos = 2, next_pos = 6, qc = 1)  \n",
       " (start_time = 8, pos = 6, next_pos = 4, qc = 1)  \n",
       " (start_time = 15, pos = 4, next_pos = 3, qc = 1) \n",
       " (start_time = 19, pos = 3, next_pos = 1, qc = 1) \n",
       " (start_time = 26, pos = 1, next_pos = 11, qc = 1)"
      ]
     },
     "execution_count": 17,
     "metadata": {},
     "output_type": "execute_result"
    }
   ],
   "source": [
    "sol_x = Dict{Int, Array}()\n",
    "for q=1:Q\n",
    "    for p=0:T\n",
    "        for s=0:T\n",
    "            if JuMP.value.(x)[p,s,q] == 1\n",
    "                if haskey(sol_x, q) == false\n",
    "                    sol_x[q] = Array{NamedTuple{(:start_time, :pos, :next_pos, :qc),Tuple{Int64,Int64,Int64,Int64}}, 1}()\n",
    "                end\n",
    "                push!(sol_x[q], (start_time=JuMP.value.(t_load)[p]-2*JuMP.value.(t_task)[p], pos=p, next_pos=s, qc=q))\n",
    "            end                \n",
    "        end\n",
    "    end\n",
    "    sort!(sol_x[q], by = x->x.start_time)\n",
    "end\n",
    "\n",
    "sol_x[1]"
   ]
  },
  {
   "cell_type": "code",
   "execution_count": 18,
   "metadata": {},
   "outputs": [
    {
     "data": {
      "text/plain": [
       "6-element Array{NamedTuple{(:start_time, :pos, :next_pos, :qc),NTuple{4,Int64}},1}:\n",
       " (start_time = 0, pos = 0, next_pos = 8, qc = 2)  \n",
       " (start_time = 1, pos = 8, next_pos = 10, qc = 2) \n",
       " (start_time = 4, pos = 10, next_pos = 9, qc = 2) \n",
       " (start_time = 8, pos = 9, next_pos = 7, qc = 2)  \n",
       " (start_time = 15, pos = 7, next_pos = 5, qc = 2) \n",
       " (start_time = 26, pos = 5, next_pos = 11, qc = 2)"
      ]
     },
     "execution_count": 18,
     "metadata": {},
     "output_type": "execute_result"
    }
   ],
   "source": [
    "sol_x[2]"
   ]
  },
  {
   "cell_type": "code",
   "execution_count": 19,
   "metadata": {},
   "outputs": [
    {
     "data": {
      "text/plain": [
       "Dict{Int64,Int64} with 12 entries:\n",
       "  2  => 1\n",
       "  11 => 0\n",
       "  7  => 7\n",
       "  9  => 9\n",
       "  0  => 0\n",
       "  10 => 8\n",
       "  8  => 10\n",
       "  6  => 5\n",
       "  4  => 4\n",
       "  3  => 3\n",
       "  5  => 6\n",
       "  1  => 2"
      ]
     },
     "execution_count": 19,
     "metadata": {},
     "output_type": "execute_result"
    }
   ],
   "source": [
    "sol_w = Dict{Int, Int}()\n",
    "for p=1:P\n",
    "    for i=1:C\n",
    "        if JuMP.value.(w)[p,i] == 1\n",
    "            sol_w[p] = i             \n",
    "        end\n",
    "    end\n",
    "end\n",
    "sol_w[0] = 0\n",
    "sol_w[T] = 0\n",
    "\n",
    "sol_w"
   ]
  },
  {
   "cell_type": "code",
   "execution_count": 20,
   "metadata": {},
   "outputs": [
    {
     "data": {
      "text/plain": [
       "2-element Array{QuayCrane,1}:\n",
       " QuayCrane(1, [1, 2, 3], \"idle\", 0, 1, 1, Task[])\n",
       " QuayCrane(2, [3, 4, 5], \"idle\", 0, 3, 3, Task[])"
      ]
     },
     "execution_count": 20,
     "metadata": {},
     "output_type": "execute_result"
    }
   ],
   "source": [
    "LS = init_ls(CTS)\n",
    "QC = init_qc(CTS)"
   ]
  },
  {
   "cell_type": "code",
   "execution_count": 21,
   "metadata": {},
   "outputs": [
    {
     "data": {
      "text/plain": [
       "update_ls (generic function with 1 method)"
      ]
     },
     "execution_count": 21,
     "metadata": {},
     "output_type": "execute_result"
    }
   ],
   "source": [
    "function update_ls(LS::LoadingSequence, t::NamedTuple{(:start_time, :pos, :next_pos, :qc),Tuple{Int64,Int64,Int64,Int64}}, sol_w::Dict{Int, Int}, CTS::Constants)\n",
    "    if t.pos != 0\n",
    "        LS.len += 1\n",
    "        LS.tasks_left -= 1\n",
    "        push!(LS.filled_pos, t.pos)\n",
    "        push!(LS.loaded_cont, sol_w[t.pos])\n",
    "    end\n",
    "    push!(LS.order, (task=Task(t.pos, bj_dict[t.pos][t.qc], sol_w[t.pos], JuMP.value.(t_task)[t.pos]), start_time=t.start_time, qc=t.qc))\n",
    "end"
   ]
  },
  {
   "cell_type": "code",
   "execution_count": 22,
   "metadata": {},
   "outputs": [],
   "source": [
    "while LS.tasks_left > 0\n",
    "    task = [(start_time=CTS.H+1,pos=0,next_pos=0,qc=0)]\n",
    "    for q=1:Q\n",
    "        if length(sol_x[q])>0 && sol_x[q][1].start_time < task[1].start_time\n",
    "            task = [sol_x[q][1]]\n",
    "        elseif length(sol_x[q])>0 && sol_x[q][1].start_time == task[1].start_time\n",
    "            push!(task, sol_x[q][1])\n",
    "        end\n",
    "    end\n",
    "\n",
    "    for t in task\n",
    "        update_ls(LS, t, sol_w, CTS)\n",
    "        if sol_x[t.qc][1] == t\n",
    "            deleteat!(sol_x[t.qc], 1)\n",
    "        end\n",
    "    end\n",
    "end"
   ]
  },
  {
   "cell_type": "code",
   "execution_count": 23,
   "metadata": {},
   "outputs": [
    {
     "data": {
      "text/plain": [
       "LoadingSequence(NamedTuple{(:task, :start_time, :qc),Tuple{Task,Int64,Int64}}[(task = Task(0, 1, 0, 0), start_time = 0, qc = 1), (task = Task(0, 5, 0, 0), start_time = 0, qc = 2), (task = Task(2, 1, 1, 3), start_time = 0, qc = 1), (task = Task(8, 4, 10, 1), start_time = 1, qc = 2), (task = Task(10, 5, 8, 2), start_time = 4, qc = 2), (task = Task(6, 3, 5, 3), start_time = 8, qc = 1), (task = Task(9, 5, 9, 2), start_time = 8, qc = 2), (task = Task(4, 2, 4, 2), start_time = 15, qc = 1), (task = Task(7, 4, 7, 4), start_time = 15, qc = 2), (task = Task(3, 2, 3, 3), start_time = 19, qc = 1), (task = Task(1, 1, 2, 4), start_time = 26, qc = 1), (task = Task(5, 3, 6, 4), start_time = 26, qc = 2)], 0, 10, [2, 8, 10, 6, 9, 4, 7, 3, 1, 5], [1, 10, 8, 5, 9, 4, 7, 3, 2, 6])"
      ]
     },
     "execution_count": 23,
     "metadata": {},
     "output_type": "execute_result"
    }
   ],
   "source": [
    "LS"
   ]
  },
  {
   "cell_type": "code",
   "execution_count": 24,
   "metadata": {},
   "outputs": [
    {
     "data": {
      "text/plain": [
       "check_prec (generic function with 1 method)"
      ]
     },
     "execution_count": 24,
     "metadata": {},
     "output_type": "execute_result"
    }
   ],
   "source": [
    "function check_tasks(LS::LoadingSequence, CTS::Constants)\n",
    "    if length(LS.filled_pos) == P && length(LS.loaded_cont) == C && length(setdiff(LS.filled_pos, collect(1:P))) == 0 && length(setdiff(LS.loaded_cont, collect(1:C))) == 0\n",
    "        return(true)\n",
    "    else\n",
    "        return(false)\n",
    "    end\n",
    "end\n",
    "\n",
    "function check_clearance(QC::Array{QuayCrane, 1}, q::Int, target_bay::Int, CTS::Constants)\n",
    "    if QC[q-1].current_bay < target_bay - CTS.delta && QC[q+1].current_bay > target_bay + CTS.delta\n",
    "        return(true)\n",
    "    end\n",
    "    return(false)\n",
    "end\n",
    "\n",
    "function check_prec(LS::LoadingSequence, task::Task, precedences::Dict)\n",
    "    for req in precedences[task.p]\n",
    "        if !(req in LS.filled_pos)\n",
    "            print(\"trying to add position, but still missing\")\n",
    "            print(setdiff(precedences[task.p],LS.filled_pos))\n",
    "            return(false)\n",
    "        end\n",
    "    end\n",
    "    return(true)\n",
    "end\n"
   ]
  },
  {
   "cell_type": "code",
   "execution_count": 25,
   "metadata": {},
   "outputs": [
    {
     "data": {
      "text/plain": [
       "true"
      ]
     },
     "execution_count": 25,
     "metadata": {},
     "output_type": "execute_result"
    }
   ],
   "source": [
    "check_tasks(LS,CTS)"
   ]
  },
  {
   "cell_type": "code",
   "execution_count": 26,
   "metadata": {},
   "outputs": [
    {
     "data": {
      "text/plain": [
       "true"
      ]
     },
     "execution_count": 26,
     "metadata": {},
     "output_type": "execute_result"
    }
   ],
   "source": [
    "for task in LS.order\n",
    "    if task[1].p != 0\n",
    "        if check_prec(LS,task[1],prec) == false\n",
    "            return(false)\n",
    "        end\n",
    "    end\n",
    "end\n",
    "return(true)"
   ]
  },
  {
   "cell_type": "code",
   "execution_count": 27,
   "metadata": {},
   "outputs": [
    {
     "data": {
      "text/plain": [
       "check_solution (generic function with 1 method)"
      ]
     },
     "execution_count": 27,
     "metadata": {},
     "output_type": "execute_result"
    }
   ],
   "source": [
    "#get QC moves and times\n",
    "function get_qc_moves(LS::LoadingSequence, CTS::Constants)\n",
    "    QC_MOVES=Dict{Int, Array{NamedTuple{(:bay, :start_time, :time),Tuple{Int64,Int64,Int64}}, 1}}()\n",
    "    for q = 1:CTS.Q\n",
    "        l=Array{NamedTuple{(:bay, :start_time, :time),Tuple{Int64,Int64,Int64}}, 1}()\n",
    "        for t in LS.order\n",
    "            if t.qc == q\n",
    "                push!(l, (bay=t.task.b, start_time=t.start_time, time=t.task.t))\n",
    "            end\n",
    "        end\n",
    "        QC_MOVES[q]=l\n",
    "    end\n",
    "    return(QC_MOVES)\n",
    "end\n",
    "\n",
    "function check_solution(LS::LoadingSequence, QC::Array{QuayCrane, 1}, CTS::Constants)\n",
    "    #check positions and containers\n",
    "    if check_tasks(LS, CTS) == false\n",
    "        return(false)\n",
    "    end\n",
    "\n",
    "    #check the QC constraints\n",
    "    QC_MOVES=get_qc_moves(LS, CTS)\n",
    "    for clock in 1:CTS.H\n",
    "        current_cranes=Array{Tuple{Int, Int}, 1}()\n",
    "        for (key, value) in QC_MOVES\n",
    "            if clock == 1\n",
    "                for i = 1: length(value)-1\n",
    "                    #check loading + travel time\n",
    "                    if value[i].start_time + 2*value[i].time + travel_time(value[i].bay, value[i+1].bay, CTS) > value[i+1].start_time\n",
    "                        print(\"wrong task/travel time\")\n",
    "                        return(false)\n",
    "                    end\n",
    "                    #check that cranes respect bays\n",
    "                    if !(value[i].bay in QC[key].available_bays)\n",
    "                        print(\"wrong bays\")\n",
    "                        return(false)\n",
    "                    end\n",
    "                end\n",
    "                if !(value[length(value)].bay in QC[key].available_bays)\n",
    "                    print(\"wrong bays\")\n",
    "                    return(false)\n",
    "                end\n",
    "            end\n",
    "\n",
    "            #s'hauria de millorar per si una grua te idle time\n",
    "            for tuple in value\n",
    "                if tuple.start_time <= clock && clock <= tuple.start_time + tuple.time\n",
    "                    push!(current_cranes, (key, tuple.bay))\n",
    "                end\n",
    "            end\n",
    "        end\n",
    "\n",
    "        #check clearance\n",
    "        sort(current_cranes, by = first)\n",
    "        for b = 1:length(current_cranes)-1\n",
    "            if current_cranes[b][1] - current_cranes[b+1][1] < CTS.delta\n",
    "                print(\"wrong clearance\")\n",
    "                return(false)\n",
    "            end\n",
    "        end\n",
    "    end\n",
    "    return(true)\n",
    "end\n"
   ]
  },
  {
   "cell_type": "code",
   "execution_count": 28,
   "metadata": {},
   "outputs": [
    {
     "data": {
      "text/plain": [
       "true"
      ]
     },
     "execution_count": 28,
     "metadata": {},
     "output_type": "execute_result"
    }
   ],
   "source": [
    "check_solution(LS, QC, CTS)"
   ]
  },
  {
   "cell_type": "code",
   "execution_count": 29,
   "metadata": {},
   "outputs": [
    {
     "data": {
      "text/plain": [
       "plot_solution (generic function with 1 method)"
      ]
     },
     "execution_count": 29,
     "metadata": {},
     "output_type": "execute_result"
    }
   ],
   "source": [
    "using Gadfly\n",
    "using DataFrames\n",
    "Gadfly.set_default_plot_size(25cm, 10cm)\n",
    "\n",
    "#get QC travel times\n",
    "function get_qc_travel(QC_MOVES::Dict{Int, Array{NamedTuple{(:bay, :start_time, :time),Tuple{Int64,Int64,Int64}}, 1}}, CTS::Constants)\n",
    "    QC_TRAVEL=Dict{Int, Array{NamedTuple{(:start_bay, :end_bay, :start_time, :end_time),Tuple{Int64,Int64,Int64,Int64}}, 1}}()\n",
    "    for q = 1:CTS.Q\n",
    "        l=Array{NamedTuple{(:start_bay, :end_bay, :start_time, :end_time),Tuple{Int64,Int64,Int64,Int64}}, 1}()\n",
    "        for t = 1:length(QC_MOVES[q])-1\n",
    "            if QC_MOVES[q][t].bay != QC_MOVES[q][t+1].bay\n",
    "                start_time = QC_MOVES[q][t].start_time + 2*QC_MOVES[q][t].time\n",
    "                end_time = QC_MOVES[q][t+1].start_time\n",
    "                start_bay = QC_MOVES[q][t].bay\n",
    "                end_bay = QC_MOVES[q][t+1].bay\n",
    "                if end_time - start_time <= abs(start_bay - end_bay)*CTS.tt\n",
    "                    push!(l, (start_bay = start_bay, end_bay = end_bay, start_time = start_time, end_time = end_time))\n",
    "                else\n",
    "                    push!(l, (start_bay = start_bay, end_bay = start_bay, start_time = start_time, end_time=end_time - abs(start_bay - end_bay)*CTS.tt))\n",
    "                    push!(l, (start_bay = start_bay, end_bay = end_bay, start_time = end_time - abs(start_bay - end_bay)*CTS.tt, end_time = end_time))\n",
    "                end\n",
    "            end\n",
    "        end\n",
    "        QC_TRAVEL[q]=l\n",
    "    end\n",
    "    return(QC_TRAVEL)\n",
    "end\n",
    "\n",
    "\n",
    "function plot_solution(LS::LoadingSequence, QC::Array{QuayCrane, 1}, CTS::Constants)\n",
    "    QC_MOVES=get_qc_moves(LS, CTS)\n",
    "    QC_TRAVEL=get_qc_travel(QC_MOVES, CTS)\n",
    "\n",
    "    list_moves=[]\n",
    "    list_travel=[]\n",
    "    for n=1:CTS.Q\n",
    "        push!(list_moves, DataFrame(Bay = [x.bay for x in QC_MOVES[n]], Start = [x.start_time for x in QC_MOVES[n]], End = [x.start_time+2*x.time for x in QC_MOVES[n]], var = map(i -> \"Quay Crane \" * string(i), n)))\n",
    "        push!(list_travel, DataFrame(start_bay = [x.start_bay for x in QC_TRAVEL[n]], end_bay = [x.end_bay for x in QC_TRAVEL[n]], start_time = [x.start_time for x in QC_TRAVEL[n]], end_time = [x.end_time for x in QC_TRAVEL[n]], var = map(i -> \"Quay Crane \" * string(i), n)))\n",
    "    end\n",
    "    df_moves=vcat(list_moves...)\n",
    "    df_travel=vcat(list_travel...)\n",
    "\n",
    "    #plot scale\n",
    "    xsc  = Scale.x_continuous(minvalue=0, maxvalue=makespan)\n",
    "    ysc  = Scale.y_continuous(minvalue=0, maxvalue=CTS.J+1)\n",
    "    #plot(df, x = :Start, xend = :Time, y = :Bay, yend = :Bay, color = :var, Geom.segment(filled=false), Theme(line_width=1cm, major_label_font=\"CMU Serif\",minor_label_font=\"CMU Serif\",\n",
    "          #     major_label_font_size=16pt,minor_label_font_size=14pt), xsc, ysc)\n",
    "    \n",
    "    layer1 = layer(df_moves, x = :Start, xend = :End, y = :Bay, yend = :Bay, color = :var, Geom.segment(filled=false), Theme(alphas=[0.5], line_width=1cm, major_label_font=\"CMU Serif\",minor_label_font=\"CMU Serif\",\n",
    "               major_label_font_size=16pt,minor_label_font_size=14pt))\n",
    "    layer2 = layer(df_travel, x = :start_time, xend = :end_time, y = :start_bay, yend = :end_bay, color = :var, Geom.segment(filled=false), Theme(line_style=[:dot] ,line_width=0.05cm, major_label_font=\"CMU Serif\",minor_label_font=\"CMU Serif\",\n",
    "               major_label_font_size=16pt,minor_label_font_size=14pt))\n",
    "\n",
    "    plot(layer1, layer2,xsc, ysc)\n",
    "\n",
    "end"
   ]
  },
  {
   "cell_type": "code",
   "execution_count": null,
   "metadata": {},
   "outputs": [],
   "source": [
    "plot_solution(LS, QC, CTS)"
   ]
  },
  {
   "cell_type": "code",
   "execution_count": 31,
   "metadata": {},
   "outputs": [
    {
     "data": {
      "text/plain": [
       "6-element Array{NamedTuple{(:bay, :start_time, :time),Tuple{Int64,Int64,Int64}},1}:\n",
       " (bay = 1, start_time = 0, time = 0) \n",
       " (bay = 1, start_time = 0, time = 3) \n",
       " (bay = 3, start_time = 8, time = 3) \n",
       " (bay = 2, start_time = 15, time = 2)\n",
       " (bay = 2, start_time = 19, time = 3)\n",
       " (bay = 1, start_time = 26, time = 4)"
      ]
     },
     "execution_count": 31,
     "metadata": {},
     "output_type": "execute_result"
    }
   ],
   "source": [
    "QC_MOVES = get_qc_moves(LS,CTS)\n",
    "QC_MOVES[1]"
   ]
  },
  {
   "cell_type": "code",
   "execution_count": 32,
   "metadata": {},
   "outputs": [
    {
     "data": {
      "text/plain": [
       "6-element Array{NamedTuple{(:bay, :start_time, :time),Tuple{Int64,Int64,Int64}},1}:\n",
       " (bay = 5, start_time = 0, time = 0) \n",
       " (bay = 4, start_time = 1, time = 1) \n",
       " (bay = 5, start_time = 4, time = 2) \n",
       " (bay = 5, start_time = 8, time = 2) \n",
       " (bay = 4, start_time = 15, time = 4)\n",
       " (bay = 3, start_time = 26, time = 4)"
      ]
     },
     "execution_count": 32,
     "metadata": {},
     "output_type": "execute_result"
    }
   ],
   "source": [
    "QC_MOVES[2]"
   ]
  }
 ],
 "metadata": {
  "kernelspec": {
   "display_name": "Julia 1.3.1",
   "language": "julia",
   "name": "julia-1.3"
  },
  "language_info": {
   "file_extension": ".jl",
   "mimetype": "application/julia",
   "name": "julia",
   "version": "1.3.1"
  }
 },
 "nbformat": 4,
 "nbformat_minor": 4
}
