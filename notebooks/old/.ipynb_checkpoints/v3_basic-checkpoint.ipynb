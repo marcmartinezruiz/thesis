{
 "cells": [
  {
   "cell_type": "code",
   "execution_count": 1,
   "metadata": {},
   "outputs": [
    {
     "name": "stdout",
     "output_type": "stream",
     "text": [
      "\u001b[32m\u001b[1mActivating\u001b[22m\u001b[39m environment at `C:\\Users\\mmart\\Desktop\\TFM\\Julia\\notebooks\\Project.toml`\n"
     ]
    }
   ],
   "source": [
    "import Pkg\n",
    "#Pkg.add(\"MathOptInterface\")\n",
    "#Pkg.add(\"GLPK\")\n",
    "Pkg.activate(@__DIR__)\n",
    "Pkg.instantiate()"
   ]
  },
  {
   "cell_type": "code",
   "execution_count": 2,
   "metadata": {},
   "outputs": [],
   "source": [
    "using JuMP\n",
    "using MathOptInterface # Replaces MathProgBase\n",
    "# shortcuts\n",
    "const MOI = MathOptInterface\n",
    "const MOIU = MathOptInterface.Utilities\n",
    "\n",
    "using GLPK # Loading the GLPK module for using its solver"
   ]
  },
  {
   "cell_type": "code",
   "execution_count": 3,
   "metadata": {},
   "outputs": [
    {
     "name": "stdout",
     "output_type": "stream",
     "text": [
      "H0 = 90"
     ]
    },
    {
     "data": {
      "text/plain": [
       "Constants(9, 9, 11, 2, 614, 1, 1)"
      ]
     },
     "execution_count": 3,
     "metadata": {},
     "output_type": "execute_result"
    }
   ],
   "source": [
    "include(\"../src/read_data.jl\")\n",
    "include(\"../JuMP/main_JuMP.jl\")"
   ]
  },
  {
   "cell_type": "code",
   "execution_count": 4,
   "metadata": {},
   "outputs": [
    {
     "data": {
      "text/plain": [
       "travel_time (generic function with 1 method)"
      ]
     },
     "execution_count": 4,
     "metadata": {},
     "output_type": "execute_result"
    }
   ],
   "source": [
    "PP=[p for p in 1:P]\n",
    "QQ=[q for q in 1:Q]\n",
    "T=P+1\n",
    "\n",
    "function travel_time(current_bay::Int, target_bay::Int, CTS::Constants)\n",
    "    return(abs(current_bay - target_bay)*CTS.tt)\n",
    "end"
   ]
  },
  {
   "cell_type": "code",
   "execution_count": 5,
   "metadata": {},
   "outputs": [],
   "source": [
    "model = Model(optimizer_with_attributes(GLPK.Optimizer));\n",
    "# Old syntax: model = Model(solver=GLPKSolverLP(msg_lev = 4)))"
   ]
  },
  {
   "cell_type": "code",
   "execution_count": 6,
   "metadata": {},
   "outputs": [
    {
     "data": {
      "text/latex": [
       "$$ makespan $$"
      ],
      "text/plain": [
       "makespan"
      ]
     },
     "execution_count": 6,
     "metadata": {},
     "output_type": "execute_result"
    }
   ],
   "source": [
    "#if positions p, s are performed consecutively by crane q\n",
    "@variable(model, x[p=0:P+1, s=0:P+1, q=1:Q], Bin)\n",
    "#if positions p, is filled with container i by crane q\n",
    "#@variable(model, w[p=0:T, i=1:C, q=1:Q], Bin)\n",
    "#if position s starts after the completion time of task p\n",
    "@variable(model, z[p=1:P, s=1:P], Bin)\n",
    "\n",
    "#completion time of task p\n",
    "@variable(model, t_load[p=1:P], lower_bound=0, upper_bound=CTS.H)\n",
    "#completion time of crane q\n",
    "@variable(model, t_crane[q=1:Q], lower_bound=0, upper_bound=CTS.H)\n",
    "#makespan\n",
    "@variable(model, makespan, lower_bound=0, upper_bound=CTS.H)\n",
    "\n",
    "\n",
    "#objective function\n",
    "#@objective(model, Min, 0.8*makespan + 0.2*sum(t_crane[q] for q in QQ))\n",
    "@objective(model, Min, makespan)"
   ]
  },
  {
   "cell_type": "code",
   "execution_count": 7,
   "metadata": {},
   "outputs": [
    {
     "data": {
      "text/plain": [
       "9-element Array{ConstraintRef{Model,MathOptInterface.ConstraintIndex{MathOptInterface.ScalarAffineFunction{Float64},MathOptInterface.EqualTo{Float64}},ScalarShape},1}:\n",
       " z[1,1] == 0.0\n",
       " z[2,2] == 0.0\n",
       " z[3,3] == 0.0\n",
       " z[4,4] == 0.0\n",
       " z[5,5] == 0.0\n",
       " z[6,6] == 0.0\n",
       " z[7,7] == 0.0\n",
       " z[8,8] == 0.0\n",
       " z[9,9] == 0.0"
      ]
     },
     "execution_count": 7,
     "metadata": {},
     "output_type": "execute_result"
    }
   ],
   "source": [
    "@constraint(model, [p=0:P+1, q=1:Q], x[p,p,q] == 0)\n",
    "@constraint(model, [p=1:P], z[p,p] == 0)\n",
    "\n",
    "#@constraint(model, [p=1:P], t_task[p] == sum(sum(2*task_times[p,i]*w[p,i,q] for q in subset_crane_pos(CTS, p, bj)) for i in subset_pos(CC, tasks_by_position, p)))"
   ]
  },
  {
   "cell_type": "code",
   "execution_count": 8,
   "metadata": {},
   "outputs": [],
   "source": [
    "#@constraint(model, [i=1:C, q=1:Q], w[0,i,q] == 0)\n",
    "#@constraint(model, [i=1:C, q=1:Q], w[T,i,q] == 0)"
   ]
  },
  {
   "cell_type": "code",
   "execution_count": 9,
   "metadata": {},
   "outputs": [
    {
     "data": {
      "text/plain": [
       "2-element Array{ConstraintRef{Model,MathOptInterface.ConstraintIndex{MathOptInterface.ScalarAffineFunction{Float64},MathOptInterface.LessThan{Float64}},ScalarShape},1}:\n",
       " t_crane[1] - makespan <= 0.0\n",
       " t_crane[2] - makespan <= 0.0"
      ]
     },
     "execution_count": 9,
     "metadata": {},
     "output_type": "execute_result"
    }
   ],
   "source": [
    "@constraint(model, [q=1:Q], t_crane[q] <= makespan)"
   ]
  },
  {
   "cell_type": "code",
   "execution_count": 10,
   "metadata": {},
   "outputs": [
    {
     "ename": "UndefVarError",
     "evalue": "UndefVarError: T not defined",
     "output_type": "error",
     "traceback": [
      "UndefVarError: T not defined",
      "",
      "Stacktrace:",
      " [1] macro expansion at C:\\Users\\mmart\\.julia\\packages\\MutableArithmetics\\Oy9aO\\src\\rewrite.jl:224 [inlined]",
      " [2] macro expansion at C:\\Users\\mmart\\.julia\\packages\\JuMP\\CZ8vV\\src\\macros.jl:380 [inlined]",
      " [3] (::var\"#29#30\")(::Int64) at C:\\Users\\mmart\\.julia\\packages\\JuMP\\CZ8vV\\src\\Containers\\macro.jl:183",
      " [4] iterate at C:\\Users\\mmart\\.julia\\packages\\JuMP\\CZ8vV\\src\\Containers\\container.jl:70 [inlined]",
      " [5] collect(::Base.Generator{JuMP.Containers.VectorizedProductIterator{Tuple{Base.OneTo{Int64}}},JuMP.Containers.var\"#26#27\"{var\"#29#30\"}}) at .\\array.jl:622",
      " [6] map(::Function, ::JuMP.Containers.VectorizedProductIterator{Tuple{Base.OneTo{Int64}}}) at .\\abstractarray.jl:2099",
      " [7] container at C:\\Users\\mmart\\.julia\\packages\\JuMP\\CZ8vV\\src\\Containers\\container.jl:70 [inlined]",
      " [8] container(::Function, ::JuMP.Containers.VectorizedProductIterator{Tuple{Base.OneTo{Int64}}}) at C:\\Users\\mmart\\.julia\\packages\\JuMP\\CZ8vV\\src\\Containers\\container.jl:65",
      " [9] top-level scope at C:\\Users\\mmart\\.julia\\packages\\JuMP\\CZ8vV\\src\\macros.jl:45",
      " [10] top-level scope at In[10]:2"
     ]
    }
   ],
   "source": [
    "@constraint(model, [q=1:Q], sum(x[0,s,q] for s in PP) == 1)\n",
    "@constraint(model, [q=1:Q], sum(x[p,T,q] for p in PP) == 1)"
   ]
  },
  {
   "cell_type": "code",
   "execution_count": 11,
   "metadata": {},
   "outputs": [
    {
     "ename": "UndefVarError",
     "evalue": "UndefVarError: PPT not defined",
     "output_type": "error",
     "traceback": [
      "UndefVarError: PPT not defined",
      "",
      "Stacktrace:",
      " [1] macro expansion at C:\\Users\\mmart\\.julia\\packages\\MutableArithmetics\\Oy9aO\\src\\rewrite.jl:224 [inlined]",
      " [2] macro expansion at C:\\Users\\mmart\\.julia\\packages\\JuMP\\CZ8vV\\src\\macros.jl:380 [inlined]",
      " [3] (::var\"#31#32\")(::Int64) at C:\\Users\\mmart\\.julia\\packages\\JuMP\\CZ8vV\\src\\Containers\\macro.jl:183",
      " [4] iterate at C:\\Users\\mmart\\.julia\\packages\\JuMP\\CZ8vV\\src\\Containers\\container.jl:70 [inlined]",
      " [5] collect(::Base.Generator{JuMP.Containers.VectorizedProductIterator{Tuple{Base.OneTo{Int64}}},JuMP.Containers.var\"#26#27\"{var\"#31#32\"}}) at .\\array.jl:622",
      " [6] map(::Function, ::JuMP.Containers.VectorizedProductIterator{Tuple{Base.OneTo{Int64}}}) at .\\abstractarray.jl:2099",
      " [7] container at C:\\Users\\mmart\\.julia\\packages\\JuMP\\CZ8vV\\src\\Containers\\container.jl:70 [inlined]",
      " [8] container(::Function, ::JuMP.Containers.VectorizedProductIterator{Tuple{Base.OneTo{Int64}}}) at C:\\Users\\mmart\\.julia\\packages\\JuMP\\CZ8vV\\src\\Containers\\container.jl:65",
      " [9] top-level scope at C:\\Users\\mmart\\.julia\\packages\\JuMP\\CZ8vV\\src\\macros.jl:45",
      " [10] top-level scope at In[11]:1"
     ]
    }
   ],
   "source": [
    "@constraint(model, [p=1:P], sum(sum(x[p,s,q] for s in PPT) for q in QQ) == 1)\n",
    "\n",
    "@constraint(model, [p=1:P, q=1:Q], sum(x[s,p,q] for s in PP) - sum(x[p,s,q] for s in PP) == 0)"
   ]
  },
  {
   "cell_type": "code",
   "execution_count": 12,
   "metadata": {},
   "outputs": [
    {
     "ename": "UndefVarError",
     "evalue": "UndefVarError: t_task not defined",
     "output_type": "error",
     "traceback": [
      "UndefVarError: t_task not defined",
      "",
      "Stacktrace:",
      " [1] macro expansion at C:\\Users\\mmart\\.julia\\packages\\MutableArithmetics\\Oy9aO\\src\\rewrite.jl:224 [inlined]",
      " [2] macro expansion at C:\\Users\\mmart\\.julia\\packages\\JuMP\\CZ8vV\\src\\macros.jl:380 [inlined]",
      " [3] top-level scope at .\\In[12]:3"
     ]
    }
   ],
   "source": [
    "for s in PP\n",
    "    for p in prec[s]\n",
    "        @constraint(model, t_load[p] + t_task[s] - t_load[s] <= 0)\n",
    "        @constraint(model, z[p,s] + z[s,p] == 1)\n",
    "    end\n",
    "end"
   ]
  },
  {
   "cell_type": "code",
   "execution_count": 13,
   "metadata": {},
   "outputs": [
    {
     "ename": "UndefVarError",
     "evalue": "UndefVarError: bj_dict not defined",
     "output_type": "error",
     "traceback": [
      "UndefVarError: bj_dict not defined",
      "",
      "Stacktrace:",
      " [1] macro expansion at C:\\Users\\mmart\\.julia\\packages\\MutableArithmetics\\Oy9aO\\src\\rewrite.jl:224 [inlined]",
      " [2] macro expansion at C:\\Users\\mmart\\.julia\\packages\\JuMP\\CZ8vV\\src\\macros.jl:380 [inlined]",
      " [3] top-level scope at .\\In[13]:5"
     ]
    }
   ],
   "source": [
    "for p in PP\n",
    "    for s in PP\n",
    "        if p != s\n",
    "            for q in QQ\n",
    "                @constraint(model, t_load[p] + travel_time(bj_dict[p], bj_dict[s], CTS) + t_task[s] - t_load[s] <= CTS.H*(1-x[p,s,q]))\n",
    "                @constraint(model, t_load[p] + t_task[s] - t_load[s] <= CTS.H*(1-z[p,s]))\n",
    "            end\n",
    "        end\n",
    "    end\n",
    "end"
   ]
  },
  {
   "cell_type": "code",
   "execution_count": 14,
   "metadata": {},
   "outputs": [
    {
     "ename": "UndefVarError",
     "evalue": "UndefVarError: bj_dict not defined",
     "output_type": "error",
     "traceback": [
      "UndefVarError: bj_dict not defined",
      "",
      "Stacktrace:",
      " [1] top-level scope at .\\In[14]:3"
     ]
    }
   ],
   "source": [
    "for p in PP\n",
    "    for s in PP\n",
    "        if p != s && bj_dict[p] < bj_dict[s]\n",
    "            for q in QQ\n",
    "                @constraint(model, sum(sum(x[u,s,v] for u in PP) for v in collect(1:q)) - sum(sum(x[u,p,v] for u in PP) for v in collect(1:q)) <= CTS.H*(z[p,s] + z[s,p]))\n",
    "            end\n",
    "        end\n",
    "    end\n",
    "end"
   ]
  },
  {
   "cell_type": "code",
   "execution_count": 15,
   "metadata": {},
   "outputs": [
    {
     "ename": "UndefVarError",
     "evalue": "UndefVarError: T not defined",
     "output_type": "error",
     "traceback": [
      "UndefVarError: T not defined",
      "",
      "Stacktrace:",
      " [1] macro expansion at C:\\Users\\mmart\\.julia\\packages\\MutableArithmetics\\Oy9aO\\src\\rewrite.jl:224 [inlined]",
      " [2] macro expansion at C:\\Users\\mmart\\.julia\\packages\\JuMP\\CZ8vV\\src\\macros.jl:380 [inlined]",
      " [3] (::var\"#33#34\")(::Int64, ::Int64) at C:\\Users\\mmart\\.julia\\packages\\JuMP\\CZ8vV\\src\\Containers\\macro.jl:183",
      " [4] #26 at C:\\Users\\mmart\\.julia\\packages\\JuMP\\CZ8vV\\src\\Containers\\container.jl:70 [inlined]",
      " [5] iterate at .\\generator.jl:47 [inlined]",
      " [6] collect(::Base.Generator{JuMP.Containers.VectorizedProductIterator{Tuple{Base.OneTo{Int64},Base.OneTo{Int64}}},JuMP.Containers.var\"#26#27\"{var\"#33#34\"}}) at .\\array.jl:622",
      " [7] map(::Function, ::JuMP.Containers.VectorizedProductIterator{Tuple{Base.OneTo{Int64},Base.OneTo{Int64}}}) at .\\abstractarray.jl:2099",
      " [8] container at C:\\Users\\mmart\\.julia\\packages\\JuMP\\CZ8vV\\src\\Containers\\container.jl:70 [inlined]",
      " [9] container(::Function, ::JuMP.Containers.VectorizedProductIterator{Tuple{Base.OneTo{Int64},Base.OneTo{Int64}}}) at C:\\Users\\mmart\\.julia\\packages\\JuMP\\CZ8vV\\src\\Containers\\container.jl:65",
      " [10] top-level scope at C:\\Users\\mmart\\.julia\\packages\\JuMP\\CZ8vV\\src\\macros.jl:45",
      " [11] top-level scope at In[15]:1"
     ]
    }
   ],
   "source": [
    "#@constraint(model, [p=1:P, q=1:Q], t_load[p] + travel_time(p, bj_start_end[1, q], CTS) - t_crane[q] <= CTS.H*(1-x[p,T,q]))\n",
    "@constraint(model, [p=1:P, q=1:Q], t_load[p] - t_crane[q] <= CTS.H*(1-x[p,T,q]))\n",
    "\n",
    "@constraint(model, [s=1:P, q=1:Q], travel_time(bj_init[q], s, CTS) + t_task[s] - t_load[s] <= CTS.H*(1-x[0,s,q]))\n",
    "#@constraint(model, [s=1:P, q=1:Q], t_task[s] - t_load[s] <= CTS.H*(1-x[0,s,q]))"
   ]
  },
  {
   "cell_type": "markdown",
   "metadata": {},
   "source": [
    "## Solution"
   ]
  },
  {
   "cell_type": "code",
   "execution_count": 16,
   "metadata": {},
   "outputs": [],
   "source": [
    "JuMP.optimize!(model) # Old syntax: status = JuMP.solve(model)"
   ]
  },
  {
   "cell_type": "code",
   "execution_count": 17,
   "metadata": {},
   "outputs": [
    {
     "data": {
      "text/plain": [
       "3-dimensional DenseAxisArray{Float64,3,...} with index sets:\n",
       "    Dimension 1, 0:10\n",
       "    Dimension 2, 0:10\n",
       "    Dimension 3, Base.OneTo(2)\n",
       "And data, a 11×11×2 Array{Float64,3}:\n",
       "[:, :, 1] =\n",
       " 0.0  1.0  0.0  0.0  0.0  0.0  0.0  0.0  0.0  0.0  0.0\n",
       " 0.0  0.0  0.0  0.0  0.0  0.0  0.0  0.0  0.0  0.0  0.0\n",
       " 0.0  0.0  0.0  0.0  0.0  0.0  0.0  0.0  0.0  0.0  0.0\n",
       " 0.0  0.0  0.0  0.0  0.0  0.0  0.0  0.0  0.0  0.0  0.0\n",
       " 0.0  0.0  0.0  0.0  0.0  0.0  0.0  0.0  0.0  0.0  0.0\n",
       " 0.0  0.0  0.0  0.0  0.0  0.0  0.0  0.0  0.0  0.0  0.0\n",
       " 0.0  0.0  0.0  0.0  0.0  0.0  0.0  0.0  0.0  0.0  0.0\n",
       " 0.0  0.0  0.0  0.0  0.0  0.0  0.0  0.0  0.0  0.0  0.0\n",
       " 0.0  0.0  0.0  0.0  0.0  0.0  0.0  0.0  0.0  0.0  0.0\n",
       " 0.0  0.0  0.0  0.0  0.0  0.0  0.0  0.0  0.0  0.0  0.0\n",
       " 0.0  0.0  0.0  0.0  0.0  0.0  0.0  0.0  0.0  0.0  0.0\n",
       "\n",
       "[:, :, 2] =\n",
       " 0.0  1.0  0.0  0.0  0.0  0.0  0.0  0.0  0.0  0.0  0.0\n",
       " 0.0  0.0  0.0  0.0  0.0  0.0  0.0  0.0  0.0  0.0  0.0\n",
       " 0.0  0.0  0.0  0.0  0.0  0.0  0.0  0.0  0.0  0.0  0.0\n",
       " 0.0  0.0  0.0  0.0  0.0  0.0  0.0  0.0  0.0  0.0  0.0\n",
       " 0.0  0.0  0.0  0.0  0.0  0.0  0.0  0.0  0.0  0.0  0.0\n",
       " 0.0  0.0  0.0  0.0  0.0  0.0  0.0  0.0  0.0  0.0  0.0\n",
       " 0.0  0.0  0.0  0.0  0.0  0.0  0.0  0.0  0.0  0.0  0.0\n",
       " 0.0  0.0  0.0  0.0  0.0  0.0  0.0  0.0  0.0  0.0  0.0\n",
       " 0.0  0.0  0.0  0.0  0.0  0.0  0.0  0.0  0.0  0.0  0.0\n",
       " 0.0  0.0  0.0  0.0  0.0  0.0  0.0  0.0  0.0  0.0  0.0\n",
       " 0.0  0.0  0.0  0.0  0.0  0.0  0.0  0.0  0.0  0.0  0.0"
      ]
     },
     "execution_count": 17,
     "metadata": {},
     "output_type": "execute_result"
    }
   ],
   "source": [
    "JuMP.value.(x)"
   ]
  },
  {
   "cell_type": "code",
   "execution_count": 18,
   "metadata": {},
   "outputs": [
    {
     "ename": "KeyError",
     "evalue": "KeyError: key 1 not found",
     "output_type": "error",
     "traceback": [
      "KeyError: key 1 not found",
      "",
      "Stacktrace:",
      " [1] getindex(::Dict{Int64,Array}, ::Int64) at .\\dict.jl:477",
      " [2] top-level scope at In[18]:14"
     ]
    }
   ],
   "source": [
    "sol_x = Dict{Int, Array}()\n",
    "for p=1:P\n",
    "    for i=1:C\n",
    "        for q=1:Q\n",
    "            if JuMP.value.(x)[p,i,q] == 1\n",
    "                if haskey(sol_x, q) == false\n",
    "                    sol_x[q] = Array{NamedTuple{(:pos, :cont),Tuple{Int64,Int64}}, 1}()\n",
    "                end\n",
    "                push!(sol_x[q], (pos=p, cont=i))\n",
    "            end                \n",
    "        end\n",
    "    end\n",
    "end\n",
    "\n",
    "sol_x[1]"
   ]
  },
  {
   "cell_type": "code",
   "execution_count": 19,
   "metadata": {},
   "outputs": [
    {
     "ename": "KeyError",
     "evalue": "KeyError: key 2 not found",
     "output_type": "error",
     "traceback": [
      "KeyError: key 2 not found",
      "",
      "Stacktrace:",
      " [1] getindex(::Dict{Int64,Array}, ::Int64) at .\\dict.jl:477",
      " [2] top-level scope at In[19]:1"
     ]
    }
   ],
   "source": [
    "sol_x[2]"
   ]
  },
  {
   "cell_type": "code",
   "execution_count": 20,
   "metadata": {},
   "outputs": [
    {
     "data": {
      "text/plain": [
       "9-element Array{Float64,1}:\n",
       " 0.0\n",
       " 0.0\n",
       " 0.0\n",
       " 0.0\n",
       " 0.0\n",
       " 0.0\n",
       " 0.0\n",
       " 0.0\n",
       " 0.0"
      ]
     },
     "execution_count": 20,
     "metadata": {},
     "output_type": "execute_result"
    }
   ],
   "source": [
    "sol_t = JuMP.value.(t_load)"
   ]
  },
  {
   "cell_type": "code",
   "execution_count": 21,
   "metadata": {},
   "outputs": [
    {
     "ename": "UndefVarError",
     "evalue": "UndefVarError: y not defined",
     "output_type": "error",
     "traceback": [
      "UndefVarError: y not defined",
      "",
      "Stacktrace:",
      " [1] top-level scope at .\\In[21]:5"
     ]
    }
   ],
   "source": [
    "sol_y = Dict{Int, Array}()\n",
    "for t=0:H-1\n",
    "    for j=1:J\n",
    "        for q=1:Q\n",
    "            if JuMP.value.(y)[j,q,t] == 1\n",
    "                if haskey(sol_y, q) == false\n",
    "                    sol_y[q] = Array{NamedTuple{(:time, :bay),Tuple{Int64,Int64}}, 1}()\n",
    "                end\n",
    "                push!(sol_y[q], (time=t, bay=j))\n",
    "            end                \n",
    "        end\n",
    "    end\n",
    "end\n",
    "\n",
    "sol_y[1]"
   ]
  },
  {
   "cell_type": "code",
   "execution_count": 22,
   "metadata": {},
   "outputs": [
    {
     "ename": "KeyError",
     "evalue": "KeyError: key 2 not found",
     "output_type": "error",
     "traceback": [
      "KeyError: key 2 not found",
      "",
      "Stacktrace:",
      " [1] getindex(::Dict{Int64,Array}, ::Int64) at .\\dict.jl:477",
      " [2] top-level scope at In[22]:1"
     ]
    }
   ],
   "source": [
    "sol_y[2]"
   ]
  },
  {
   "cell_type": "code",
   "execution_count": null,
   "metadata": {},
   "outputs": [],
   "source": []
  },
  {
   "cell_type": "code",
   "execution_count": null,
   "metadata": {},
   "outputs": [],
   "source": []
  }
 ],
 "metadata": {
  "kernelspec": {
   "display_name": "Julia 1.3.1",
   "language": "julia",
   "name": "julia-1.3"
  },
  "language_info": {
   "file_extension": ".jl",
   "mimetype": "application/julia",
   "name": "julia",
   "version": "1.3.1"
  }
 },
 "nbformat": 4,
 "nbformat_minor": 4
}
