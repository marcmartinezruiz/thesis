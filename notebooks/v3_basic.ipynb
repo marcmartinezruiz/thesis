{
 "cells": [
  {
   "cell_type": "code",
   "execution_count": 1,
   "metadata": {},
   "outputs": [
    {
     "name": "stdout",
     "output_type": "stream",
     "text": [
      "\u001b[32m\u001b[1mActivating\u001b[22m\u001b[39m environment at `C:\\Users\\mmart\\Desktop\\TFM\\Julia\\notebooks\\Project.toml`\n"
     ]
    }
   ],
   "source": [
    "import Pkg\n",
    "#Pkg.add(\"MathOptInterface\")\n",
    "#Pkg.add(\"GLPK\")\n",
    "Pkg.activate(@__DIR__)\n",
    "Pkg.instantiate()"
   ]
  },
  {
   "cell_type": "code",
   "execution_count": 2,
   "metadata": {},
   "outputs": [],
   "source": [
    "using JuMP\n",
    "using MathOptInterface # Replaces MathProgBase\n",
    "# shortcuts\n",
    "const MOI = MathOptInterface\n",
    "const MOIU = MathOptInterface.Utilities\n",
    "\n",
    "using GLPK # Loading the GLPK module for using its solver"
   ]
  },
  {
   "cell_type": "code",
   "execution_count": 3,
   "metadata": {},
   "outputs": [
    {
     "name": "stdout",
     "output_type": "stream",
     "text": [
      "H0 = 20"
     ]
    },
    {
     "data": {
      "text/plain": [
       "Constants(5, 5, 5, 2, 800, 1, 1)"
      ]
     },
     "execution_count": 3,
     "metadata": {},
     "output_type": "execute_result"
    }
   ],
   "source": [
    "include(\"../src/read_data.jl\")\n",
    "include(\"../JuMP/main_JuMP.jl\")"
   ]
  },
  {
   "cell_type": "code",
   "execution_count": 4,
   "metadata": {},
   "outputs": [
    {
     "data": {
      "text/plain": [
       "Dict{Int64,Int64} with 7 entries:\n",
       "  0 => 0\n",
       "  4 => 3\n",
       "  2 => 1\n",
       "  3 => 2\n",
       "  5 => 5\n",
       "  6 => 0\n",
       "  1 => 1"
      ]
     },
     "execution_count": 4,
     "metadata": {},
     "output_type": "execute_result"
    }
   ],
   "source": [
    "PP=[p for p in 1:P]\n",
    "QQ=[q for q in 1:Q]\n",
    "T=P+1\n",
    "\n",
    "function travel_time(current_bay::Int, target_bay::Int, CTS::Constants)\n",
    "    return(abs(current_bay - target_bay)*CTS.tt)\n",
    "end\n",
    "\n",
    "#create t_tasks and bj_dict\n",
    "t_task = Dict{Int, Int}()\n",
    "bj_dict = Dict{Int, Int}()\n",
    "bj_init = Dict{Int, Int}()\n",
    "for p in PP\n",
    "    t_task[p] = tasks_by_position[p][1].t\n",
    "    bj_dict[p] = bj[p]\n",
    "end\n",
    "\n",
    "t_task[0] = 0\n",
    "t_task[T] = 0\n",
    "bj_dict[0] = 0\n",
    "bj_dict[T] = 0\n",
    "bj_init[1] = 1\n",
    "bj_init[2] = 4\n",
    "bj_dict"
   ]
  },
  {
   "cell_type": "code",
   "execution_count": 5,
   "metadata": {},
   "outputs": [],
   "source": [
    "model = Model(optimizer_with_attributes(GLPK.Optimizer));\n",
    "# Old syntax: model = Model(solver=GLPKSolverLP(msg_lev = 4)))"
   ]
  },
  {
   "cell_type": "code",
   "execution_count": 6,
   "metadata": {},
   "outputs": [
    {
     "data": {
      "text/latex": [
       "$$ makespan $$"
      ],
      "text/plain": [
       "makespan"
      ]
     },
     "execution_count": 6,
     "metadata": {},
     "output_type": "execute_result"
    }
   ],
   "source": [
    "#if positions p, s are performed consecutively by crane q\n",
    "@variable(model, x[p=0:P+1, s=0:P+1, q=1:Q], Bin)\n",
    "#if positions p, is filled with container i by crane q\n",
    "#@variable(model, w[p=0:T, i=1:C, q=1:Q], Bin)\n",
    "#if position s starts after the completion time of task p\n",
    "@variable(model, z[p=1:P, s=1:P], Bin)\n",
    "\n",
    "#completion time of task p\n",
    "@variable(model, t_load[p=1:P], lower_bound=0, upper_bound=CTS.H)\n",
    "#completion time of crane q\n",
    "@variable(model, t_crane[q=1:Q], lower_bound=0, upper_bound=CTS.H)\n",
    "#makespan\n",
    "@variable(model, makespan, lower_bound=0, upper_bound=CTS.H)\n",
    "\n",
    "\n",
    "#objective function\n",
    "#@objective(model, Min, 0.8*makespan + 0.2*sum(t_crane[q] for q in QQ))\n",
    "@objective(model, Min, makespan)"
   ]
  },
  {
   "cell_type": "code",
   "execution_count": 7,
   "metadata": {},
   "outputs": [
    {
     "data": {
      "text/plain": [
       "5-element Array{ConstraintRef{Model,MathOptInterface.ConstraintIndex{MathOptInterface.ScalarAffineFunction{Float64},MathOptInterface.EqualTo{Float64}},ScalarShape},1}:\n",
       " z[1,1] == 0.0\n",
       " z[2,2] == 0.0\n",
       " z[3,3] == 0.0\n",
       " z[4,4] == 0.0\n",
       " z[5,5] == 0.0"
      ]
     },
     "execution_count": 7,
     "metadata": {},
     "output_type": "execute_result"
    }
   ],
   "source": [
    "@constraint(model, [p=0:P+1, q=1:Q], x[p,p,q] == 0)\n",
    "@constraint(model, [p=1:P], z[p,p] == 0)\n",
    "\n",
    "#@constraint(model, [p=1:P], t_task[p] == sum(sum(2*task_times[p,i]*w[p,i,q] for q in subset_crane_pos(CTS, p, bj)) for i in subset_pos(CC, tasks_by_position, p)))"
   ]
  },
  {
   "cell_type": "code",
   "execution_count": 8,
   "metadata": {},
   "outputs": [],
   "source": [
    "#@constraint(model, [i=1:C, q=1:Q], w[0,i,q] == 0)\n",
    "#@constraint(model, [i=1:C, q=1:Q], w[T,i,q] == 0)"
   ]
  },
  {
   "cell_type": "code",
   "execution_count": 9,
   "metadata": {},
   "outputs": [
    {
     "data": {
      "text/plain": [
       "2-element Array{ConstraintRef{Model,MathOptInterface.ConstraintIndex{MathOptInterface.ScalarAffineFunction{Float64},MathOptInterface.LessThan{Float64}},ScalarShape},1}:\n",
       " t_crane[1] - makespan <= 0.0\n",
       " t_crane[2] - makespan <= 0.0"
      ]
     },
     "execution_count": 9,
     "metadata": {},
     "output_type": "execute_result"
    }
   ],
   "source": [
    "@constraint(model, [q=1:Q], t_crane[q] <= makespan)"
   ]
  },
  {
   "cell_type": "code",
   "execution_count": 10,
   "metadata": {},
   "outputs": [
    {
     "data": {
      "text/plain": [
       "2-element Array{ConstraintRef{Model,MathOptInterface.ConstraintIndex{MathOptInterface.ScalarAffineFunction{Float64},MathOptInterface.EqualTo{Float64}},ScalarShape},1}:\n",
       " x[1,6,1] + x[2,6,1] + x[3,6,1] + x[4,6,1] + x[5,6,1] == 1.0\n",
       " x[1,6,2] + x[2,6,2] + x[3,6,2] + x[4,6,2] + x[5,6,2] == 1.0"
      ]
     },
     "execution_count": 10,
     "metadata": {},
     "output_type": "execute_result"
    }
   ],
   "source": [
    "@constraint(model, [q=1:Q], sum(x[0,s,q] for s in PP) == 1)\n",
    "@constraint(model, [q=1:Q], sum(x[p,T,q] for p in PP) == 1)"
   ]
  },
  {
   "cell_type": "code",
   "execution_count": 11,
   "metadata": {},
   "outputs": [
    {
     "data": {
      "text/plain": [
       "5×2 Array{ConstraintRef{Model,MathOptInterface.ConstraintIndex{MathOptInterface.ScalarAffineFunction{Float64},MathOptInterface.EqualTo{Float64}},ScalarShape},2}:\n",
       " x[2,1,1] + x[3,1,1] + x[4,1,1] + x[5,1,1] - x[1,2,1] - x[1,3,1] - x[1,4,1] - x[1,5,1] == 0.0  …  x[2,1,2] + x[3,1,2] + x[4,1,2] + x[5,1,2] - x[1,2,2] - x[1,3,2] - x[1,4,2] - x[1,5,2] == 0.0\n",
       " x[1,2,1] + x[3,2,1] + x[4,2,1] + x[5,2,1] - x[2,1,1] - x[2,3,1] - x[2,4,1] - x[2,5,1] == 0.0     x[1,2,2] + x[3,2,2] + x[4,2,2] + x[5,2,2] - x[2,1,2] - x[2,3,2] - x[2,4,2] - x[2,5,2] == 0.0\n",
       " x[1,3,1] + x[2,3,1] + x[4,3,1] + x[5,3,1] - x[3,1,1] - x[3,2,1] - x[3,4,1] - x[3,5,1] == 0.0     x[1,3,2] + x[2,3,2] + x[4,3,2] + x[5,3,2] - x[3,1,2] - x[3,2,2] - x[3,4,2] - x[3,5,2] == 0.0\n",
       " x[1,4,1] + x[2,4,1] + x[3,4,1] + x[5,4,1] - x[4,1,1] - x[4,2,1] - x[4,3,1] - x[4,5,1] == 0.0     x[1,4,2] + x[2,4,2] + x[3,4,2] + x[5,4,2] - x[4,1,2] - x[4,2,2] - x[4,3,2] - x[4,5,2] == 0.0\n",
       " x[1,5,1] + x[2,5,1] + x[3,5,1] + x[4,5,1] - x[5,1,1] - x[5,2,1] - x[5,3,1] - x[5,4,1] == 0.0     x[1,5,2] + x[2,5,2] + x[3,5,2] + x[4,5,2] - x[5,1,2] - x[5,2,2] - x[5,3,2] - x[5,4,2] == 0.0"
      ]
     },
     "execution_count": 11,
     "metadata": {},
     "output_type": "execute_result"
    }
   ],
   "source": [
    "@constraint(model, [p=1:P], sum(sum(x[p,s,q] for s in PP) for q in QQ) == 1)\n",
    "\n",
    "@constraint(model, [p=1:P, q=1:Q], sum(x[s,p,q] for s in PP) - sum(x[p,s,q] for s in PP) == 0)"
   ]
  },
  {
   "cell_type": "code",
   "execution_count": 12,
   "metadata": {},
   "outputs": [],
   "source": [
    "for s in PP\n",
    "    for p in prec[s]\n",
    "        @constraint(model, t_load[p] + t_task[s] - t_load[s] <= 0)\n",
    "        @constraint(model, z[p,s] + z[s,p] == 1)\n",
    "    end\n",
    "end"
   ]
  },
  {
   "cell_type": "code",
   "execution_count": 13,
   "metadata": {},
   "outputs": [],
   "source": [
    "for p in PP\n",
    "    for s in PP\n",
    "        if p != s\n",
    "            for q in QQ\n",
    "                @constraint(model, t_load[p] + travel_time(bj_dict[p], bj_dict[s], CTS) + t_task[s] - t_load[s] <= CTS.H*(1-x[p,s,q]))\n",
    "                @constraint(model, t_load[p] + t_task[s] - t_load[s] <= CTS.H*(1-z[p,s]))\n",
    "            end\n",
    "        end\n",
    "    end\n",
    "end"
   ]
  },
  {
   "cell_type": "code",
   "execution_count": 14,
   "metadata": {},
   "outputs": [],
   "source": [
    "for p in PP\n",
    "    for s in PP\n",
    "        if p != s && bj_dict[p] < bj_dict[s]\n",
    "            for q in QQ\n",
    "                @constraint(model, sum(sum(x[u,s,v] for u in PP) for v in collect(1:q)) - sum(sum(x[u,p,v] for u in PP) for v in collect(1:q)) <= CTS.H*(z[p,s] + z[s,p]))\n",
    "            end\n",
    "        end\n",
    "    end\n",
    "end"
   ]
  },
  {
   "cell_type": "code",
   "execution_count": 15,
   "metadata": {},
   "outputs": [
    {
     "data": {
      "text/plain": [
       "5×2 Array{ConstraintRef{Model,MathOptInterface.ConstraintIndex{MathOptInterface.ScalarAffineFunction{Float64},MathOptInterface.LessThan{Float64}},ScalarShape},2}:\n",
       " -t_load[1] + 800 x[0,1,1] <= 778.0  -t_load[1] + 800 x[0,1,2] <= 775.0\n",
       " -t_load[2] + 800 x[0,2,1] <= 753.0  -t_load[2] + 800 x[0,2,2] <= 752.0\n",
       " -t_load[3] + 800 x[0,3,1] <= 790.0  -t_load[3] + 800 x[0,3,2] <= 791.0\n",
       " -t_load[4] + 800 x[0,4,1] <= 727.0  -t_load[4] + 800 x[0,4,2] <= 730.0\n",
       " -t_load[5] + 800 x[0,5,1] <= 786.0  -t_load[5] + 800 x[0,5,2] <= 789.0"
      ]
     },
     "execution_count": 15,
     "metadata": {},
     "output_type": "execute_result"
    }
   ],
   "source": [
    "#@constraint(model, [p=1:P, q=1:Q], t_load[p] + travel_time(p, bj_start_end[1, q], CTS) - t_crane[q] <= CTS.H*(1-x[p,T,q]))\n",
    "@constraint(model, [p=1:P, q=1:Q], t_load[p] - t_crane[q] <= CTS.H*(1-x[p,T,q]))\n",
    "\n",
    "@constraint(model, [s=1:P, q=1:Q], travel_time(bj_init[q], s, CTS) + t_task[s] - t_load[s] <= CTS.H*(1-x[0,s,q]))\n",
    "#@constraint(model, [s=1:P, q=1:Q], t_task[s] - t_load[s] <= CTS.H*(1-x[0,s,q]))"
   ]
  },
  {
   "cell_type": "markdown",
   "metadata": {},
   "source": [
    "## Solution"
   ]
  },
  {
   "cell_type": "code",
   "execution_count": 16,
   "metadata": {},
   "outputs": [],
   "source": [
    "JuMP.optimize!(model) # Old syntax: status = JuMP.solve(model)"
   ]
  },
  {
   "cell_type": "code",
   "execution_count": 17,
   "metadata": {},
   "outputs": [
    {
     "ename": "MathOptInterface.ResultIndexBoundsError{MathOptInterface.VariablePrimal}",
     "evalue": "Result index of attribute MathOptInterface.VariablePrimal(1) out of bounds. There are currently 0 solution(s) in the model.",
     "output_type": "error",
     "traceback": [
      "Result index of attribute MathOptInterface.VariablePrimal(1) out of bounds. There are currently 0 solution(s) in the model.",
      "",
      "Stacktrace:",
      " [1] check_result_index_bounds at C:\\Users\\mmart\\.julia\\packages\\MathOptInterface\\XiH8D\\src\\attributes.jl:133 [inlined]",
      " [2] get(::GLPK.Optimizer, ::MathOptInterface.VariablePrimal, ::MathOptInterface.VariableIndex) at C:\\Users\\mmart\\.julia\\packages\\GLPK\\HjJiX\\src\\MOI_wrapper.jl:1573",
      " [3] get(::MathOptInterface.Bridges.LazyBridgeOptimizer{GLPK.Optimizer}, ::MathOptInterface.VariablePrimal, ::MathOptInterface.VariableIndex) at C:\\Users\\mmart\\.julia\\packages\\MathOptInterface\\XiH8D\\src\\Bridges\\bridge_optimizer.jl:752",
      " [4] get(::MathOptInterface.Utilities.CachingOptimizer{MathOptInterface.AbstractOptimizer,MathOptInterface.Utilities.UniversalFallback{MathOptInterface.Utilities.Model{Float64}}}, ::MathOptInterface.VariablePrimal, ::MathOptInterface.VariableIndex) at C:\\Users\\mmart\\.julia\\packages\\MathOptInterface\\XiH8D\\src\\Utilities\\cachingoptimizer.jl:508",
      " [5] _moi_get_result(::MathOptInterface.Utilities.CachingOptimizer{MathOptInterface.AbstractOptimizer,MathOptInterface.Utilities.UniversalFallback{MathOptInterface.Utilities.Model{Float64}}}, ::MathOptInterface.VariablePrimal, ::Vararg{Any,N} where N) at C:\\Users\\mmart\\.julia\\packages\\JuMP\\CZ8vV\\src\\JuMP.jl:787",
      " [6] get(::Model, ::MathOptInterface.VariablePrimal, ::VariableRef) at C:\\Users\\mmart\\.julia\\packages\\JuMP\\CZ8vV\\src\\JuMP.jl:817",
      " [7] #value#28(::Int64, ::typeof(value), ::VariableRef) at C:\\Users\\mmart\\.julia\\packages\\JuMP\\CZ8vV\\src\\variables.jl:767",
      " [8] value at C:\\Users\\mmart\\.julia\\packages\\JuMP\\CZ8vV\\src\\variables.jl:767 [inlined]",
      " [9] _broadcast_getindex_evalf at .\\broadcast.jl:630 [inlined]",
      " [10] _broadcast_getindex at .\\broadcast.jl:603 [inlined]",
      " [11] getindex at .\\broadcast.jl:563 [inlined]",
      " [12] macro expansion at .\\broadcast.jl:909 [inlined]",
      " [13] macro expansion at .\\simdloop.jl:77 [inlined]",
      " [14] copyto! at .\\broadcast.jl:908 [inlined]",
      " [15] copyto! at .\\broadcast.jl:863 [inlined]",
      " [16] copy at .\\broadcast.jl:839 [inlined]",
      " [17] materialize at .\\broadcast.jl:819 [inlined]",
      " [18] broadcast(::typeof(value), ::Array{VariableRef,3}) at .\\broadcast.jl:757",
      " [19] broadcasted(::JuMP.Containers.DenseAxisArrayBroadcastStyle, ::Function, ::JuMP.Containers.DenseAxisArray{VariableRef,3,Tuple{UnitRange{Int64},UnitRange{Int64},Base.OneTo{Int64}},Tuple{Dict{Int64,Int64},Dict{Int64,Int64},Dict{Int64,Int64}}}) at C:\\Users\\mmart\\.julia\\packages\\JuMP\\CZ8vV\\src\\Containers\\DenseAxisArray.jl:245",
      " [20] broadcasted(::Function, ::JuMP.Containers.DenseAxisArray{VariableRef,3,Tuple{UnitRange{Int64},UnitRange{Int64},Base.OneTo{Int64}},Tuple{Dict{Int64,Int64},Dict{Int64,Int64},Dict{Int64,Int64}}}) at .\\broadcast.jl:1231",
      " [21] top-level scope at In[17]:1"
     ]
    }
   ],
   "source": [
    "JuMP.value.(x)"
   ]
  },
  {
   "cell_type": "code",
   "execution_count": 18,
   "metadata": {},
   "outputs": [
    {
     "ename": "MathOptInterface.ResultIndexBoundsError{MathOptInterface.VariablePrimal}",
     "evalue": "Result index of attribute MathOptInterface.VariablePrimal(1) out of bounds. There are currently 0 solution(s) in the model.",
     "output_type": "error",
     "traceback": [
      "Result index of attribute MathOptInterface.VariablePrimal(1) out of bounds. There are currently 0 solution(s) in the model.",
      "",
      "Stacktrace:",
      " [1] check_result_index_bounds at C:\\Users\\mmart\\.julia\\packages\\MathOptInterface\\XiH8D\\src\\attributes.jl:133 [inlined]",
      " [2] get(::GLPK.Optimizer, ::MathOptInterface.VariablePrimal, ::MathOptInterface.VariableIndex) at C:\\Users\\mmart\\.julia\\packages\\GLPK\\HjJiX\\src\\MOI_wrapper.jl:1573",
      " [3] get(::MathOptInterface.Bridges.LazyBridgeOptimizer{GLPK.Optimizer}, ::MathOptInterface.VariablePrimal, ::MathOptInterface.VariableIndex) at C:\\Users\\mmart\\.julia\\packages\\MathOptInterface\\XiH8D\\src\\Bridges\\bridge_optimizer.jl:752",
      " [4] get(::MathOptInterface.Utilities.CachingOptimizer{MathOptInterface.AbstractOptimizer,MathOptInterface.Utilities.UniversalFallback{MathOptInterface.Utilities.Model{Float64}}}, ::MathOptInterface.VariablePrimal, ::MathOptInterface.VariableIndex) at C:\\Users\\mmart\\.julia\\packages\\MathOptInterface\\XiH8D\\src\\Utilities\\cachingoptimizer.jl:508",
      " [5] _moi_get_result(::MathOptInterface.Utilities.CachingOptimizer{MathOptInterface.AbstractOptimizer,MathOptInterface.Utilities.UniversalFallback{MathOptInterface.Utilities.Model{Float64}}}, ::MathOptInterface.VariablePrimal, ::Vararg{Any,N} where N) at C:\\Users\\mmart\\.julia\\packages\\JuMP\\CZ8vV\\src\\JuMP.jl:787",
      " [6] get(::Model, ::MathOptInterface.VariablePrimal, ::VariableRef) at C:\\Users\\mmart\\.julia\\packages\\JuMP\\CZ8vV\\src\\JuMP.jl:817",
      " [7] #value#28(::Int64, ::typeof(value), ::VariableRef) at C:\\Users\\mmart\\.julia\\packages\\JuMP\\CZ8vV\\src\\variables.jl:767",
      " [8] value at C:\\Users\\mmart\\.julia\\packages\\JuMP\\CZ8vV\\src\\variables.jl:767 [inlined]",
      " [9] _broadcast_getindex_evalf at .\\broadcast.jl:630 [inlined]",
      " [10] _broadcast_getindex at .\\broadcast.jl:603 [inlined]",
      " [11] getindex at .\\broadcast.jl:563 [inlined]",
      " [12] macro expansion at .\\broadcast.jl:909 [inlined]",
      " [13] macro expansion at .\\simdloop.jl:77 [inlined]",
      " [14] copyto! at .\\broadcast.jl:908 [inlined]",
      " [15] copyto! at .\\broadcast.jl:863 [inlined]",
      " [16] copy at .\\broadcast.jl:839 [inlined]",
      " [17] materialize at .\\broadcast.jl:819 [inlined]",
      " [18] broadcast(::typeof(value), ::Array{VariableRef,3}) at .\\broadcast.jl:757",
      " [19] broadcasted(::JuMP.Containers.DenseAxisArrayBroadcastStyle, ::Function, ::JuMP.Containers.DenseAxisArray{VariableRef,3,Tuple{UnitRange{Int64},UnitRange{Int64},Base.OneTo{Int64}},Tuple{Dict{Int64,Int64},Dict{Int64,Int64},Dict{Int64,Int64}}}) at C:\\Users\\mmart\\.julia\\packages\\JuMP\\CZ8vV\\src\\Containers\\DenseAxisArray.jl:245",
      " [20] broadcasted(::Function, ::JuMP.Containers.DenseAxisArray{VariableRef,3,Tuple{UnitRange{Int64},UnitRange{Int64},Base.OneTo{Int64}},Tuple{Dict{Int64,Int64},Dict{Int64,Int64},Dict{Int64,Int64}}}) at .\\broadcast.jl:1231",
      " [21] top-level scope at .\\In[18]:5"
     ]
    }
   ],
   "source": [
    "sol_x = Dict{Int, Array}()\n",
    "for p=1:P\n",
    "    for i=1:C\n",
    "        for q=1:Q\n",
    "            if JuMP.value.(x)[p,i,q] == 1\n",
    "                if haskey(sol_x, q) == false\n",
    "                    sol_x[q] = Array{NamedTuple{(:pos, :cont),Tuple{Int64,Int64}}, 1}()\n",
    "                end\n",
    "                push!(sol_x[q], (pos=p, cont=i))\n",
    "            end                \n",
    "        end\n",
    "    end\n",
    "end\n",
    "\n",
    "sol_x[1]"
   ]
  },
  {
   "cell_type": "code",
   "execution_count": 19,
   "metadata": {},
   "outputs": [
    {
     "ename": "KeyError",
     "evalue": "KeyError: key 2 not found",
     "output_type": "error",
     "traceback": [
      "KeyError: key 2 not found",
      "",
      "Stacktrace:",
      " [1] getindex(::Dict{Int64,Array}, ::Int64) at .\\dict.jl:477",
      " [2] top-level scope at In[19]:1"
     ]
    }
   ],
   "source": [
    "sol_x[2]"
   ]
  },
  {
   "cell_type": "code",
   "execution_count": 20,
   "metadata": {},
   "outputs": [
    {
     "ename": "MathOptInterface.ResultIndexBoundsError{MathOptInterface.VariablePrimal}",
     "evalue": "Result index of attribute MathOptInterface.VariablePrimal(1) out of bounds. There are currently 0 solution(s) in the model.",
     "output_type": "error",
     "traceback": [
      "Result index of attribute MathOptInterface.VariablePrimal(1) out of bounds. There are currently 0 solution(s) in the model.",
      "",
      "Stacktrace:",
      " [1] check_result_index_bounds at C:\\Users\\mmart\\.julia\\packages\\MathOptInterface\\XiH8D\\src\\attributes.jl:133 [inlined]",
      " [2] get(::GLPK.Optimizer, ::MathOptInterface.VariablePrimal, ::MathOptInterface.VariableIndex) at C:\\Users\\mmart\\.julia\\packages\\GLPK\\HjJiX\\src\\MOI_wrapper.jl:1573",
      " [3] get(::MathOptInterface.Bridges.LazyBridgeOptimizer{GLPK.Optimizer}, ::MathOptInterface.VariablePrimal, ::MathOptInterface.VariableIndex) at C:\\Users\\mmart\\.julia\\packages\\MathOptInterface\\XiH8D\\src\\Bridges\\bridge_optimizer.jl:752",
      " [4] get(::MathOptInterface.Utilities.CachingOptimizer{MathOptInterface.AbstractOptimizer,MathOptInterface.Utilities.UniversalFallback{MathOptInterface.Utilities.Model{Float64}}}, ::MathOptInterface.VariablePrimal, ::MathOptInterface.VariableIndex) at C:\\Users\\mmart\\.julia\\packages\\MathOptInterface\\XiH8D\\src\\Utilities\\cachingoptimizer.jl:508",
      " [5] _moi_get_result(::MathOptInterface.Utilities.CachingOptimizer{MathOptInterface.AbstractOptimizer,MathOptInterface.Utilities.UniversalFallback{MathOptInterface.Utilities.Model{Float64}}}, ::MathOptInterface.VariablePrimal, ::Vararg{Any,N} where N) at C:\\Users\\mmart\\.julia\\packages\\JuMP\\CZ8vV\\src\\JuMP.jl:787",
      " [6] get(::Model, ::MathOptInterface.VariablePrimal, ::VariableRef) at C:\\Users\\mmart\\.julia\\packages\\JuMP\\CZ8vV\\src\\JuMP.jl:817",
      " [7] #value#28(::Int64, ::typeof(value), ::VariableRef) at C:\\Users\\mmart\\.julia\\packages\\JuMP\\CZ8vV\\src\\variables.jl:767",
      " [8] value at C:\\Users\\mmart\\.julia\\packages\\JuMP\\CZ8vV\\src\\variables.jl:767 [inlined]",
      " [9] _broadcast_getindex_evalf at .\\broadcast.jl:630 [inlined]",
      " [10] _broadcast_getindex at .\\broadcast.jl:603 [inlined]",
      " [11] getindex at .\\broadcast.jl:563 [inlined]",
      " [12] macro expansion at .\\broadcast.jl:909 [inlined]",
      " [13] macro expansion at .\\simdloop.jl:77 [inlined]",
      " [14] copyto! at .\\broadcast.jl:908 [inlined]",
      " [15] copyto! at .\\broadcast.jl:863 [inlined]",
      " [16] copy at .\\broadcast.jl:839 [inlined]",
      " [17] materialize(::Base.Broadcast.Broadcasted{Base.Broadcast.DefaultArrayStyle{1},Nothing,typeof(value),Tuple{Array{VariableRef,1}}}) at .\\broadcast.jl:819",
      " [18] top-level scope at In[20]:1"
     ]
    }
   ],
   "source": [
    "sol_t = JuMP.value.(t_load)"
   ]
  },
  {
   "cell_type": "code",
   "execution_count": 21,
   "metadata": {},
   "outputs": [
    {
     "ename": "UndefVarError",
     "evalue": "UndefVarError: y not defined",
     "output_type": "error",
     "traceback": [
      "UndefVarError: y not defined",
      "",
      "Stacktrace:",
      " [1] top-level scope at .\\In[21]:5"
     ]
    }
   ],
   "source": [
    "sol_y = Dict{Int, Array}()\n",
    "for t=0:H-1\n",
    "    for j=1:J\n",
    "        for q=1:Q\n",
    "            if JuMP.value.(y)[j,q,t] == 1\n",
    "                if haskey(sol_y, q) == false\n",
    "                    sol_y[q] = Array{NamedTuple{(:time, :bay),Tuple{Int64,Int64}}, 1}()\n",
    "                end\n",
    "                push!(sol_y[q], (time=t, bay=j))\n",
    "            end                \n",
    "        end\n",
    "    end\n",
    "end\n",
    "\n",
    "sol_y[1]"
   ]
  },
  {
   "cell_type": "code",
   "execution_count": 22,
   "metadata": {},
   "outputs": [
    {
     "ename": "KeyError",
     "evalue": "KeyError: key 2 not found",
     "output_type": "error",
     "traceback": [
      "KeyError: key 2 not found",
      "",
      "Stacktrace:",
      " [1] getindex(::Dict{Int64,Array}, ::Int64) at .\\dict.jl:477",
      " [2] top-level scope at In[22]:1"
     ]
    }
   ],
   "source": [
    "sol_y[2]"
   ]
  },
  {
   "cell_type": "code",
   "execution_count": null,
   "metadata": {},
   "outputs": [],
   "source": []
  },
  {
   "cell_type": "code",
   "execution_count": null,
   "metadata": {},
   "outputs": [],
   "source": []
  }
 ],
 "metadata": {
  "kernelspec": {
   "display_name": "Julia 1.3.1",
   "language": "julia",
   "name": "julia-1.3"
  },
  "language_info": {
   "file_extension": ".jl",
   "mimetype": "application/julia",
   "name": "julia",
   "version": "1.3.1"
  }
 },
 "nbformat": 4,
 "nbformat_minor": 4
}
