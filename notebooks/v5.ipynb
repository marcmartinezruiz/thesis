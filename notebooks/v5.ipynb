{
 "cells": [
  {
   "cell_type": "code",
   "execution_count": 1,
   "metadata": {},
   "outputs": [
    {
     "name": "stdout",
     "output_type": "stream",
     "text": [
      "\u001b[32m\u001b[1mActivating\u001b[22m\u001b[39m environment at `C:\\Users\\mmart\\Desktop\\TFM\\Julia\\notebooks\\Project.toml`\n"
     ]
    }
   ],
   "source": [
    "import Pkg\n",
    "#Pkg.add(\"MathOptInterface\")\n",
    "#Pkg.add(\"GLPK\")\n",
    "Pkg.activate(@__DIR__)\n",
    "Pkg.instantiate()"
   ]
  },
  {
   "cell_type": "code",
   "execution_count": 2,
   "metadata": {},
   "outputs": [],
   "source": [
    "using JuMP\n",
    "using MathOptInterface # Replaces MathProgBase\n",
    "# shortcuts\n",
    "const MOI = MathOptInterface\n",
    "const MOIU = MathOptInterface.Utilities\n",
    "\n",
    "using GLPK # Loading the GLPK module for using its solver"
   ]
  },
  {
   "cell_type": "code",
   "execution_count": 3,
   "metadata": {},
   "outputs": [
    {
     "name": "stdout",
     "output_type": "stream",
     "text": [
      "H0 = 20"
     ]
    },
    {
     "data": {
      "text/plain": [
       "Constants(5, 5, 5, 2, 490, 1, 1)"
      ]
     },
     "execution_count": 3,
     "metadata": {},
     "output_type": "execute_result"
    }
   ],
   "source": [
    "include(\"../src/read_data.jl\")\n",
    "include(\"../JuMP/main_JuMP.jl\")"
   ]
  },
  {
   "cell_type": "code",
   "execution_count": 4,
   "metadata": {},
   "outputs": [
    {
     "data": {
      "text/plain": [
       "clearance_travel_time (generic function with 1 method)"
      ]
     },
     "execution_count": 4,
     "metadata": {},
     "output_type": "execute_result"
    }
   ],
   "source": [
    "T=P+1\n",
    "PP=[p for p in 1:P]\n",
    "PPP=[p for p in 0:T]\n",
    "PP0=[p for p in 0:P]\n",
    "PPT=[p for p in 1:T]\n",
    "QQ=[q for q in 1:Q]\n",
    "CC=[c for c in 1:C]\n",
    "\n",
    "#create bj_dict\n",
    "bj_dict = Dict{Int, Array{Int,1}}()\n",
    "bj_init = [1,4]\n",
    "for p in PPP\n",
    "    l = Array{Int,1}()\n",
    "    for q in QQ\n",
    "        if p == 0\n",
    "            push!(l, bj_init[q])\n",
    "        elseif p == T\n",
    "            push!(l, 0)\n",
    "        else\n",
    "            push!(l, bj[p])\n",
    "        end\n",
    "    end\n",
    "    bj_dict[p] = l\n",
    "end\n",
    "\n",
    "function travel_time(current_bay::Int, target_bay::Int, CTS::Constants)\n",
    "    if current_bay == 0 || target_bay == 0\n",
    "        return(0)\n",
    "    else\n",
    "        return(abs(current_bay - target_bay)*CTS.tt)\n",
    "    end\n",
    "end\n",
    "\n",
    "function clearance_travel_time(i::Int, j::Int, v::Int, w::Int, bj_dict::Dict{Int, Array{Int,1}}, CTS::Constants)\n",
    "    delta = (CTS.delta + 1)*abs(v-w)\n",
    "    li = bj_dict[i][v]\n",
    "    lj = bj_dict[j][w]\n",
    "    if (v < w) && (i != j) && (li > lj - delta)\n",
    "        return((li - lj + delta)*CTS.tt)\n",
    "    elseif (v > w) && (i != j) && (li < lj + delta)\n",
    "        return((lj - li + delta)*CTS.tt)\n",
    "    else\n",
    "        return(0)\n",
    "    end\n",
    "end"
   ]
  },
  {
   "cell_type": "code",
   "execution_count": 5,
   "metadata": {},
   "outputs": [
    {
     "data": {
      "text/plain": [
       "2"
      ]
     },
     "execution_count": 5,
     "metadata": {},
     "output_type": "execute_result"
    }
   ],
   "source": [
    "clearance_travel_time(1,2,1,2,bj_dict,CTS)"
   ]
  },
  {
   "cell_type": "code",
   "execution_count": 6,
   "metadata": {},
   "outputs": [],
   "source": [
    "model = Model(optimizer_with_attributes(GLPK.Optimizer));\n",
    "# Old syntax: model = Model(solver=GLPKSolverLP(msg_lev = 4)))"
   ]
  },
  {
   "cell_type": "code",
   "execution_count": 7,
   "metadata": {},
   "outputs": [
    {
     "data": {
      "text/latex": [
       "$$ t_load_{6} $$"
      ],
      "text/plain": [
       "t_load[6]"
      ]
     },
     "execution_count": 7,
     "metadata": {},
     "output_type": "execute_result"
    }
   ],
   "source": [
    "#if positions p, s are performed consecutively by crane q\n",
    "@variable(model, x[p=0:T, s=0:T, q=1:Q], Bin)\n",
    "#if positions p is filled with container i\n",
    "@variable(model, w[p=0:T, i=1:C], Bin)\n",
    "#if position s starts after the completion time of task p\n",
    "@variable(model, z[p=1:P, s=1:P], Bin)\n",
    "\n",
    "#completion time of task p\n",
    "@variable(model, t_load[p=0:T], Int, lower_bound=0, upper_bound=CTS.H)\n",
    "#completion required time to perform task p\n",
    "@variable(model, t_task[p=0:T], lower_bound=0, upper_bound=CTS.H)\n",
    "#completion time of crane q\n",
    "#@variable(model, t_crane[q=1:Q], lower_bound=0, upper_bound=CTS.H)\n",
    "#makespan\n",
    "#@variable(model, makespan, lower_bound=0, upper_bound=CTS.H)\n",
    "\n",
    "\n",
    "#objective function\n",
    "#@objective(model, Min, 0.8*t_load[T] + 0.2*sum(t_crane[q] for q in QQ))\n",
    "@objective(model, Min, t_load[T])"
   ]
  },
  {
   "cell_type": "code",
   "execution_count": 8,
   "metadata": {},
   "outputs": [
    {
     "data": {
      "text/latex": [
       "$ t_load_{6} \\leq 490.0 $"
      ],
      "text/plain": [
       "t_load[6] <= 490.0"
      ]
     },
     "execution_count": 8,
     "metadata": {},
     "output_type": "execute_result"
    }
   ],
   "source": [
    "@constraint(model, [p=0:T, q=1:Q], x[p,p,q] == 0)\n",
    "@constraint(model, [p=1:P], z[p,p] == 0)\n",
    "\n",
    "@constraint(model, t_load[0] == 0)\n",
    "@constraint(model, t_load[T] <= CTS.H)"
   ]
  },
  {
   "cell_type": "code",
   "execution_count": 9,
   "metadata": {},
   "outputs": [
    {
     "data": {
      "text/plain": [
       "5-element Array{ConstraintRef{Model,MathOptInterface.ConstraintIndex{MathOptInterface.ScalarAffineFunction{Float64},MathOptInterface.EqualTo{Float64}},ScalarShape},1}:\n",
       " t_task[1] - 22 w[1,1] - 60 w[1,2] - 5 w[1,4] == 0.0 \n",
       " t_task[2] - 38 w[2,1] - 46 w[2,2] - 40 w[2,4] == 0.0\n",
       " t_task[3] - 8 w[3,3] == 0.0                         \n",
       " t_task[4] - 16 w[4,1] - 62 w[4,2] - 70 w[4,4] == 0.0\n",
       " t_task[5] - 10 w[5,5] == 0.0                        "
      ]
     },
     "execution_count": 9,
     "metadata": {},
     "output_type": "execute_result"
    }
   ],
   "source": [
    "@constraint(model, t_task[0] == 0)\n",
    "@constraint(model, t_task[T] == 0)\n",
    "\n",
    "@constraint(model, [p=1:P], t_task[p] == sum(task_times[p,i]*w[p,i] for i in subset_pos(CC, tasks_by_position, p)))"
   ]
  },
  {
   "cell_type": "code",
   "execution_count": 10,
   "metadata": {},
   "outputs": [
    {
     "data": {
      "text/plain": [
       "5-element Array{ConstraintRef{Model,MathOptInterface.ConstraintIndex{MathOptInterface.ScalarAffineFunction{Float64},MathOptInterface.EqualTo{Float64}},ScalarShape},1}:\n",
       " w[1,1] + w[1,2] + w[1,4] == 1.0\n",
       " w[2,1] + w[2,2] + w[2,4] == 1.0\n",
       " w[3,3] == 1.0                  \n",
       " w[4,1] + w[4,2] + w[4,4] == 1.0\n",
       " w[5,5] == 1.0                  "
      ]
     },
     "execution_count": 10,
     "metadata": {},
     "output_type": "execute_result"
    }
   ],
   "source": [
    "@constraint(model, [i=1:C], w[0,i] == 0)\n",
    "@constraint(model, [i=1:C], w[T,i] == 0)\n",
    "\n",
    "@constraint(model, [i=1:C], sum(w[p,i] for p in subset_pos(PP, tasks_by_position, i)) == 1)\n",
    "@constraint(model, [p=1:P], sum(w[p,i] for i in subset_pos(CC, tasks_by_position, p)) == 1)"
   ]
  },
  {
   "cell_type": "code",
   "execution_count": 11,
   "metadata": {},
   "outputs": [],
   "source": [
    "#@constraint(model, [q=1:Q], t_crane[q] <= t_load[T])"
   ]
  },
  {
   "cell_type": "code",
   "execution_count": 12,
   "metadata": {},
   "outputs": [
    {
     "data": {
      "text/plain": [
       "2-element Array{ConstraintRef{Model,MathOptInterface.ConstraintIndex{MathOptInterface.ScalarAffineFunction{Float64},MathOptInterface.EqualTo{Float64}},ScalarShape},1}:\n",
       " x[0,6,1] + x[1,6,1] + x[2,6,1] + x[3,6,1] + x[4,6,1] + x[5,6,1] == 1.0\n",
       " x[0,6,2] + x[1,6,2] + x[2,6,2] + x[3,6,2] + x[4,6,2] + x[5,6,2] == 1.0"
      ]
     },
     "execution_count": 12,
     "metadata": {},
     "output_type": "execute_result"
    }
   ],
   "source": [
    "@constraint(model, [q=1:Q], sum(x[0,s,q] for s in PPT) == 1)\n",
    "@constraint(model, [q=1:Q], sum(x[p,T,q] for p in PP0) == 1)"
   ]
  },
  {
   "cell_type": "code",
   "execution_count": 13,
   "metadata": {},
   "outputs": [
    {
     "data": {
      "text/plain": [
       "5×2 Array{ConstraintRef{Model,MathOptInterface.ConstraintIndex{MathOptInterface.ScalarAffineFunction{Float64},MathOptInterface.EqualTo{Float64}},ScalarShape},2}:\n",
       " x[0,1,1] + x[2,1,1] + x[3,1,1] + x[4,1,1] + x[5,1,1] - x[1,2,1] - x[1,3,1] - x[1,4,1] - x[1,5,1] - x[1,6,1] == 0.0  …  x[0,1,2] + x[2,1,2] + x[3,1,2] + x[4,1,2] + x[5,1,2] - x[1,2,2] - x[1,3,2] - x[1,4,2] - x[1,5,2] - x[1,6,2] == 0.0\n",
       " x[0,2,1] + x[1,2,1] + x[3,2,1] + x[4,2,1] + x[5,2,1] - x[2,1,1] - x[2,3,1] - x[2,4,1] - x[2,5,1] - x[2,6,1] == 0.0     x[0,2,2] + x[1,2,2] + x[3,2,2] + x[4,2,2] + x[5,2,2] - x[2,1,2] - x[2,3,2] - x[2,4,2] - x[2,5,2] - x[2,6,2] == 0.0\n",
       " x[0,3,1] + x[1,3,1] + x[2,3,1] + x[4,3,1] + x[5,3,1] - x[3,1,1] - x[3,2,1] - x[3,4,1] - x[3,5,1] - x[3,6,1] == 0.0     x[0,3,2] + x[1,3,2] + x[2,3,2] + x[4,3,2] + x[5,3,2] - x[3,1,2] - x[3,2,2] - x[3,4,2] - x[3,5,2] - x[3,6,2] == 0.0\n",
       " x[0,4,1] + x[1,4,1] + x[2,4,1] + x[3,4,1] + x[5,4,1] - x[4,1,1] - x[4,2,1] - x[4,3,1] - x[4,5,1] - x[4,6,1] == 0.0     x[0,4,2] + x[1,4,2] + x[2,4,2] + x[3,4,2] + x[5,4,2] - x[4,1,2] - x[4,2,2] - x[4,3,2] - x[4,5,2] - x[4,6,2] == 0.0\n",
       " x[0,5,1] + x[1,5,1] + x[2,5,1] + x[3,5,1] + x[4,5,1] - x[5,1,1] - x[5,2,1] - x[5,3,1] - x[5,4,1] - x[5,6,1] == 0.0     x[0,5,2] + x[1,5,2] + x[2,5,2] + x[3,5,2] + x[4,5,2] - x[5,1,2] - x[5,2,2] - x[5,3,2] - x[5,4,2] - x[5,6,2] == 0.0"
      ]
     },
     "execution_count": 13,
     "metadata": {},
     "output_type": "execute_result"
    }
   ],
   "source": [
    "@constraint(model, [p=1:P], sum(sum(x[p,s,q] for s in PPT) for q in QQ) == 1)\n",
    "\n",
    "@constraint(model, [p=1:P, q=1:Q], sum(x[s,p,q] for s in PP0) - sum(x[p,s,q] for s in PPT) == 0)"
   ]
  },
  {
   "cell_type": "code",
   "execution_count": 14,
   "metadata": {},
   "outputs": [],
   "source": [
    "for s in PP\n",
    "    for p in prec[s]\n",
    "        @constraint(model, t_load[p] + 2*t_task[s] - t_load[s] <= 0)\n",
    "        @constraint(model, z[p,s] + z[s,p] == 1)\n",
    "    end\n",
    "end"
   ]
  },
  {
   "cell_type": "code",
   "execution_count": 15,
   "metadata": {},
   "outputs": [],
   "source": [
    "for p in PPP\n",
    "    for s in PPP\n",
    "        if p != s\n",
    "            for q in QQ\n",
    "                @constraint(model, t_load[p] + travel_time(bj_dict[p][q], bj_dict[s][q], CTS) + 2*t_task[s] - t_load[s] <= CTS.H*(1-x[p,s,q]))\n",
    "            end\n",
    "        end\n",
    "    end\n",
    "end\n",
    "\n",
    "for p in PP\n",
    "    for s in PP\n",
    "        if p != s\n",
    "            @constraint(model, t_load[p] + 2*t_task[s] - t_load[s] <= CTS.H*(1-z[p,s]))\n",
    "            @constraint(model, t_load[s] - 2*t_task[s] - t_load[p] <= CTS.H*z[p,s])\n",
    "\n",
    "            #if bj_dict[p] == bj_dict[s]\n",
    "            #    custom_set=Array{Int,1}()\n",
    "            #    custom_set = collect(setdiff(Set(PP0),Set(bay_to_pos(bj_dict[p], bj))))\n",
    "            #    @constraint(model, t_load[p] + 2*t_task[s] - t_load[s] + CTS.tt*sum(sum(x[u,s,q] for u in custom_set) for q in QQ) <= CTS.H*(1-z[p,s]))\n",
    "            #    @constraint(model, t_load[s] - 2*t_task[s] - t_load[p] + CTS.tt*sum(sum(x[u,s,q] for u in custom_set) for q in QQ) <= CTS.H*z[p,s])\n",
    "            #end\n",
    "        end\n",
    "    end\n",
    "end"
   ]
  },
  {
   "cell_type": "code",
   "execution_count": 16,
   "metadata": {},
   "outputs": [
    {
     "data": {
      "text/plain": [
       "5×2 Array{ConstraintRef{Model,MathOptInterface.ConstraintIndex{MathOptInterface.ScalarAffineFunction{Float64},MathOptInterface.LessThan{Float64}},ScalarShape},2}:\n",
       " 2 t_task[1] - t_load[1] + 490 x[0,1,1] <= 490.0  …  2 t_task[1] - t_load[1] + 490 x[0,1,2] <= 487.0\n",
       " 2 t_task[2] - t_load[2] + 490 x[0,2,1] <= 490.0     2 t_task[2] - t_load[2] + 490 x[0,2,2] <= 487.0\n",
       " 2 t_task[3] - t_load[3] + 490 x[0,3,1] <= 489.0     2 t_task[3] - t_load[3] + 490 x[0,3,2] <= 488.0\n",
       " 2 t_task[4] - t_load[4] + 490 x[0,4,1] <= 488.0     2 t_task[4] - t_load[4] + 490 x[0,4,2] <= 489.0\n",
       " 2 t_task[5] - t_load[5] + 490 x[0,5,1] <= 486.0     2 t_task[5] - t_load[5] + 490 x[0,5,2] <= 489.0"
      ]
     },
     "execution_count": 16,
     "metadata": {},
     "output_type": "execute_result"
    }
   ],
   "source": [
    "#@constraint(model, [p=1:P, q=1:Q], t_load[p] + travel_time(p, bj_start_end[1, q], CTS) - t_crane[q] <= CTS.H*(1-x[p,T,q]))\n",
    "#@constraint(model, [p=1:P, q=1:Q], t_load[p] - t_crane[q] <= CTS.H*(1-x[p,T,q]))\n",
    "\n",
    "@constraint(model, [s=1:P, q=1:Q], travel_time(bj_dict[0][q], bj_dict[s][q], CTS) + 2*t_task[s] - t_load[s] <= CTS.H*(1-x[0,s,q]))\n",
    "#@constraint(model, [s=1:P, q=1:Q], t_task[s] - t_load[s] <= CTS.H*(1-x[0,s,q]))"
   ]
  },
  {
   "cell_type": "code",
   "execution_count": 17,
   "metadata": {},
   "outputs": [],
   "source": [
    "for p in PP\n",
    "    for s in PP\n",
    "        for v in QQ\n",
    "            for w in QQ\n",
    "                if p < s && clearance_travel_time(p, s, v, w, bj_dict, CTS) > 0\n",
    "                    @constraint(model, sum(x[u,p,v] for u in PP0) + sum(x[u,s,w] for u in PP0) <= 1 + z[p,s] + z[s,p])\n",
    "                    @constraint(model, t_load[p] + clearance_travel_time(p, s, v, w, bj_dict, CTS) + 2*t_task[s] - t_load[s] <= CTS.H*(3 - z[p,s] - sum(x[u,p,v] for u in PP0) - sum(x[u,s,w] for u in PP0)))\n",
    "                    @constraint(model, t_load[s] + clearance_travel_time(p, s, v, w, bj_dict, CTS) + 2*t_task[p] - t_load[p] <= CTS.H*(3 - z[s,p] - sum(x[u,p,v] for u in PP0) - sum(x[u,s,w] for u in PP0)))\n",
    "                end\n",
    "            end\n",
    "        end\n",
    "    end\n",
    "end"
   ]
  },
  {
   "cell_type": "markdown",
   "metadata": {},
   "source": [
    "## Solution"
   ]
  },
  {
   "cell_type": "code",
   "execution_count": 18,
   "metadata": {},
   "outputs": [],
   "source": [
    "JuMP.optimize!(model) # Old syntax: status = JuMP.solve(model)"
   ]
  },
  {
   "cell_type": "code",
   "execution_count": 19,
   "metadata": {},
   "outputs": [
    {
     "data": {
      "text/plain": [
       "119.0"
      ]
     },
     "execution_count": 19,
     "metadata": {},
     "output_type": "execute_result"
    }
   ],
   "source": [
    "makespan = JuMP.value.(t_load)[T]"
   ]
  },
  {
   "cell_type": "code",
   "execution_count": 20,
   "metadata": {},
   "outputs": [
    {
     "data": {
      "text/plain": [
       "4-element Array{NamedTuple{(:start_time, :pos, :next_pos, :qc),NTuple{4,Int64}},1}:\n",
       " (start_time = 0, pos = 0, next_pos = 1, qc = 1)  \n",
       " (start_time = 0, pos = 1, next_pos = 2, qc = 1)  \n",
       " (start_time = 10, pos = 2, next_pos = 3, qc = 1) \n",
       " (start_time = 103, pos = 3, next_pos = 6, qc = 1)"
      ]
     },
     "execution_count": 20,
     "metadata": {},
     "output_type": "execute_result"
    }
   ],
   "source": [
    "sol_x = Dict{Int, Array}()\n",
    "for q=1:Q\n",
    "    for p=0:T\n",
    "        for s=0:T\n",
    "            if JuMP.value.(x)[p,s,q] == 1\n",
    "                if haskey(sol_x, q) == false\n",
    "                    sol_x[q] = Array{NamedTuple{(:start_time, :pos, :next_pos, :qc),Tuple{Int64,Int64,Int64,Int64}}, 1}()\n",
    "                end\n",
    "                push!(sol_x[q], (start_time=JuMP.value.(t_load)[p]-2*JuMP.value.(t_task)[p], pos=p, next_pos=s, qc=q))\n",
    "            end                \n",
    "        end\n",
    "    end\n",
    "    sort!(sol_x[q], by = x->x.start_time)\n",
    "end\n",
    "\n",
    "sol_x[1]"
   ]
  },
  {
   "cell_type": "code",
   "execution_count": 21,
   "metadata": {},
   "outputs": [
    {
     "data": {
      "text/plain": [
       "3-element Array{NamedTuple{(:start_time, :pos, :next_pos, :qc),NTuple{4,Int64}},1}:\n",
       " (start_time = 0, pos = 0, next_pos = 4, qc = 2) \n",
       " (start_time = 10, pos = 4, next_pos = 5, qc = 2)\n",
       " (start_time = 83, pos = 5, next_pos = 6, qc = 2)"
      ]
     },
     "execution_count": 21,
     "metadata": {},
     "output_type": "execute_result"
    }
   ],
   "source": [
    "sol_x[2]"
   ]
  },
  {
   "cell_type": "code",
   "execution_count": 22,
   "metadata": {},
   "outputs": [
    {
     "data": {
      "text/plain": [
       "Dict{Int64,Int64} with 7 entries:\n",
       "  0 => 0\n",
       "  4 => 1\n",
       "  2 => 2\n",
       "  3 => 3\n",
       "  5 => 5\n",
       "  6 => 0\n",
       "  1 => 4"
      ]
     },
     "execution_count": 22,
     "metadata": {},
     "output_type": "execute_result"
    }
   ],
   "source": [
    "sol_w = Dict{Int, Int}()\n",
    "for p=1:P\n",
    "    for i=1:C\n",
    "        if JuMP.value.(w)[p,i] == 1\n",
    "            sol_w[p] = i             \n",
    "        end\n",
    "    end\n",
    "end\n",
    "sol_w[0] = 0\n",
    "sol_w[T] = 0\n",
    "\n",
    "sol_w"
   ]
  },
  {
   "cell_type": "code",
   "execution_count": 23,
   "metadata": {},
   "outputs": [
    {
     "data": {
      "text/plain": [
       "2-element Array{QuayCrane,1}:\n",
       " QuayCrane(1, [1, 2, 3], \"idle\", 0, 1, 1, Task[])\n",
       " QuayCrane(2, [3, 4, 5], \"idle\", 0, 3, 3, Task[])"
      ]
     },
     "execution_count": 23,
     "metadata": {},
     "output_type": "execute_result"
    }
   ],
   "source": [
    "LS = init_ls(CTS)\n",
    "QC = init_qc(CTS)"
   ]
  },
  {
   "cell_type": "code",
   "execution_count": 24,
   "metadata": {},
   "outputs": [
    {
     "data": {
      "text/plain": [
       "update_ls (generic function with 1 method)"
      ]
     },
     "execution_count": 24,
     "metadata": {},
     "output_type": "execute_result"
    }
   ],
   "source": [
    "function update_ls(LS::LoadingSequence, t::NamedTuple{(:start_time, :pos, :next_pos, :qc),Tuple{Int64,Int64,Int64,Int64}}, sol_w::Dict{Int, Int}, CTS::Constants)\n",
    "    if t.pos != 0\n",
    "        LS.len += 1\n",
    "        LS.tasks_left -= 1\n",
    "        push!(LS.filled_pos, t.pos)\n",
    "        push!(LS.loaded_cont, sol_w[t.pos])\n",
    "    end\n",
    "    push!(LS.order, (task=Task(t.pos, bj_dict[t.pos][t.qc], sol_w[t.pos], JuMP.value.(t_task)[t.pos]), start_time=t.start_time, qc=t.qc))\n",
    "end"
   ]
  },
  {
   "cell_type": "code",
   "execution_count": 25,
   "metadata": {},
   "outputs": [],
   "source": [
    "while LS.tasks_left > 0\n",
    "    task = [(start_time=CTS.H+1,pos=0,next_pos=0,qc=0)]\n",
    "    for q=1:Q\n",
    "        if length(sol_x[q])>0 && sol_x[q][1].start_time < task[1].start_time\n",
    "            task = [sol_x[q][1]]\n",
    "        elseif length(sol_x[q])>0 && sol_x[q][1].start_time == task[1].start_time\n",
    "            push!(task, sol_x[q][1])\n",
    "        end\n",
    "    end\n",
    "\n",
    "    for t in task\n",
    "        update_ls(LS, t, sol_w, CTS)\n",
    "        if sol_x[t.qc][1] == t\n",
    "            deleteat!(sol_x[t.qc], 1)\n",
    "        end\n",
    "    end\n",
    "end"
   ]
  },
  {
   "cell_type": "code",
   "execution_count": 26,
   "metadata": {},
   "outputs": [
    {
     "data": {
      "text/plain": [
       "LoadingSequence(NamedTuple{(:task, :start_time, :qc),Tuple{Task,Int64,Int64}}[(task = Task(0, 1, 0, 0), start_time = 0, qc = 1), (task = Task(0, 4, 0, 0), start_time = 0, qc = 2), (task = Task(1, 1, 4, 5), start_time = 0, qc = 1), (task = Task(2, 1, 2, 46), start_time = 10, qc = 1), (task = Task(4, 3, 1, 16), start_time = 10, qc = 2), (task = Task(5, 5, 5, 10), start_time = 83, qc = 2), (task = Task(3, 2, 3, 8), start_time = 103, qc = 1)], 0, 5, [1, 2, 4, 5, 3], [4, 2, 1, 5, 3])"
      ]
     },
     "execution_count": 26,
     "metadata": {},
     "output_type": "execute_result"
    }
   ],
   "source": [
    "LS"
   ]
  },
  {
   "cell_type": "code",
   "execution_count": 27,
   "metadata": {},
   "outputs": [
    {
     "data": {
      "text/plain": [
       "check_prec (generic function with 1 method)"
      ]
     },
     "execution_count": 27,
     "metadata": {},
     "output_type": "execute_result"
    }
   ],
   "source": [
    "function check_tasks(LS::LoadingSequence, CTS::Constants)\n",
    "    if length(LS.filled_pos) == P && length(LS.loaded_cont) == C && length(setdiff(LS.filled_pos, collect(1:P))) == 0 && length(setdiff(LS.loaded_cont, collect(1:C))) == 0\n",
    "        return(true)\n",
    "    else\n",
    "        return(false)\n",
    "    end\n",
    "end\n",
    "\n",
    "function check_clearance(QC::Array{QuayCrane, 1}, q::Int, target_bay::Int, CTS::Constants)\n",
    "    if QC[q-1].current_bay < target_bay - CTS.delta && QC[q+1].current_bay > target_bay + CTS.delta\n",
    "        return(true)\n",
    "    end\n",
    "    return(false)\n",
    "end\n",
    "\n",
    "function check_prec(LS::LoadingSequence, task::Task, precedences::Dict)\n",
    "    for req in precedences[task.p]\n",
    "        if !(req in LS.filled_pos)\n",
    "            print(\"trying to add position, but still missing\")\n",
    "            print(setdiff(precedences[task.p],LS.filled_pos))\n",
    "            return(false)\n",
    "        end\n",
    "    end\n",
    "    return(true)\n",
    "end\n"
   ]
  },
  {
   "cell_type": "code",
   "execution_count": 28,
   "metadata": {},
   "outputs": [
    {
     "data": {
      "text/plain": [
       "true"
      ]
     },
     "execution_count": 28,
     "metadata": {},
     "output_type": "execute_result"
    }
   ],
   "source": [
    "check_tasks(LS,CTS)"
   ]
  },
  {
   "cell_type": "code",
   "execution_count": 29,
   "metadata": {},
   "outputs": [
    {
     "data": {
      "text/plain": [
       "true"
      ]
     },
     "execution_count": 29,
     "metadata": {},
     "output_type": "execute_result"
    }
   ],
   "source": [
    "for task in LS.order\n",
    "    if task[1].p != 0\n",
    "        if check_prec(LS,task[1],prec) == false\n",
    "            return(false)\n",
    "        end\n",
    "    end\n",
    "end\n",
    "return(true)"
   ]
  },
  {
   "cell_type": "code",
   "execution_count": 30,
   "metadata": {},
   "outputs": [
    {
     "data": {
      "text/plain": [
       "check_solution (generic function with 1 method)"
      ]
     },
     "execution_count": 30,
     "metadata": {},
     "output_type": "execute_result"
    }
   ],
   "source": [
    "#get QC moves and times\n",
    "function get_qc_moves(LS::LoadingSequence, CTS::Constants)\n",
    "    QC_MOVES=Dict{Int, Array{NamedTuple{(:bay, :start_time, :time),Tuple{Int64,Int64,Int64}}, 1}}()\n",
    "    for q = 1:CTS.Q\n",
    "        l=Array{NamedTuple{(:bay, :start_time, :time),Tuple{Int64,Int64,Int64}}, 1}()\n",
    "        for t in LS.order\n",
    "            if t.qc == q\n",
    "                push!(l, (bay=t.task.b, start_time=t.start_time, time=t.task.t))\n",
    "            end\n",
    "        end\n",
    "        QC_MOVES[q]=l\n",
    "    end\n",
    "    return(QC_MOVES)\n",
    "end\n",
    "\n",
    "function check_solution(LS::LoadingSequence, QC::Array{QuayCrane, 1}, CTS::Constants)\n",
    "    #check positions and containers\n",
    "    if check_tasks(LS, CTS) == false\n",
    "        return(false)\n",
    "    end\n",
    "\n",
    "    #check the QC constraints\n",
    "    QC_MOVES=get_qc_moves(LS, CTS)\n",
    "\n",
    "    for clock in 1:CTS.H\n",
    "        current_cranes=[]\n",
    "        for (key, value) in QC_MOVES\n",
    "            if clock == 1\n",
    "                for i = 1: length(value)-1\n",
    "                    #check loading + travel time\n",
    "                    if value[i].start_time + 2*value[i].time + travel_time(value[i].bay, value[i+1].bay, CTS) != value[i+1].start_time\n",
    "                        print(\"start_time_i = \")\n",
    "                        print(value[i].start_time)\n",
    "                        print(\"    task_time_i = \")\n",
    "                        print(value[i].time)\n",
    "                        print(\"    travel = \")\n",
    "                        print(travel_time(value[i].bay, value[i+1].bay, CTS))\n",
    "                        print(\"    start_time_i+1 = \")\n",
    "                        print(value[i+1].start_time)\n",
    "                        print(\"    bay_i = \")\n",
    "                        print(value[i].bay)\n",
    "                        print(\"    bay_i+1 = \")\n",
    "                        print(value[i+1].bay)\n",
    "                        print(\"\\n\")\n",
    "                        #return(false)\n",
    "                    end\n",
    "                    #check that cranes respect bays\n",
    "                    if !(value[i].bay in QC[key].available_bays)\n",
    "                        print(\"wrong bays\")\n",
    "                        return(false)\n",
    "                    end\n",
    "                end\n",
    "                if !(value[length(value)].bay in QC[key].available_bays)\n",
    "                    print(\"wrong bays\")\n",
    "                    return(false)\n",
    "                end\n",
    "            end\n",
    "\n",
    "            #s'hauria de millorar per si una grua te idle time\n",
    "            for tuple in value\n",
    "                if tuple.start_time <= clock && clock <= tuple.start_time + tuple.time\n",
    "                    push!(current_cranes, (key, tuple.bay))\n",
    "                end\n",
    "            end\n",
    "        end\n",
    "\n",
    "        #check clearance\n",
    "        sort(current_cranes, by = first)\n",
    "        for b = 1:length(current_cranes)-1\n",
    "            if current_cranes[b] - current_cranes[b+1] < CTS.delta\n",
    "                print(\"clearance\")\n",
    "                return(false)\n",
    "            end\n",
    "        end\n",
    "    end\n",
    "end\n"
   ]
  },
  {
   "cell_type": "code",
   "execution_count": 31,
   "metadata": {},
   "outputs": [
    {
     "name": "stdout",
     "output_type": "stream",
     "text": [
      "start_time_i = 0    task_time_i = 0    travel = 1    start_time_i+1 = 10    bay_i = 4    bay_i+1 = 3\n",
      "start_time_i = 10    task_time_i = 16    travel = 2    start_time_i+1 = 83    bay_i = 3    bay_i+1 = 5\n"
     ]
    },
    {
     "ename": "MethodError",
     "evalue": "MethodError: no method matching -(::Tuple{Int64,Int64}, ::Tuple{Int64,Int64})\nClosest candidates are:\n  -(!Matched::Union{MathOptInterface.ScalarAffineFunction{T}, MathOptInterface.ScalarQuadraticFunction{T}}, ::T) where T at C:\\Users\\mmart\\.julia\\packages\\MathOptInterface\\XiH8D\\src\\Utilities\\functions.jl:1125\n  -(::T, !Matched::Union{MathOptInterface.ScalarAffineFunction{T}, MathOptInterface.ScalarQuadraticFunction{T}}) where T at C:\\Users\\mmart\\.julia\\packages\\MathOptInterface\\XiH8D\\src\\Utilities\\functions.jl:1131",
     "output_type": "error",
     "traceback": [
      "MethodError: no method matching -(::Tuple{Int64,Int64}, ::Tuple{Int64,Int64})\nClosest candidates are:\n  -(!Matched::Union{MathOptInterface.ScalarAffineFunction{T}, MathOptInterface.ScalarQuadraticFunction{T}}, ::T) where T at C:\\Users\\mmart\\.julia\\packages\\MathOptInterface\\XiH8D\\src\\Utilities\\functions.jl:1125\n  -(::T, !Matched::Union{MathOptInterface.ScalarAffineFunction{T}, MathOptInterface.ScalarQuadraticFunction{T}}) where T at C:\\Users\\mmart\\.julia\\packages\\MathOptInterface\\XiH8D\\src\\Utilities\\functions.jl:1131",
      "",
      "Stacktrace:",
      " [1] check_solution(::LoadingSequence, ::Array{QuayCrane,1}, ::Constants) at .\\In[30]:70",
      " [2] top-level scope at In[31]:1"
     ]
    }
   ],
   "source": [
    "check_solution(LS, QC, CTS)"
   ]
  },
  {
   "cell_type": "code",
   "execution_count": null,
   "metadata": {},
   "outputs": [],
   "source": []
  }
 ],
 "metadata": {
  "kernelspec": {
   "display_name": "Julia 1.3.1",
   "language": "julia",
   "name": "julia-1.3"
  },
  "language_info": {
   "file_extension": ".jl",
   "mimetype": "application/julia",
   "name": "julia",
   "version": "1.3.1"
  }
 },
 "nbformat": 4,
 "nbformat_minor": 4
}
