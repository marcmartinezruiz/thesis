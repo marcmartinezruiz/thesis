{
 "cells": [
  {
   "cell_type": "code",
   "execution_count": null,
   "metadata": {},
   "outputs": [],
   "source": [
    "import Pkg\n",
    "#Pkg.add(\"MathOptInterface\")\n",
    "#Pkg.add(\"GLPK\")\n",
    "Pkg.activate(@__DIR__)\n",
    "Pkg.instantiate()"
   ]
  },
  {
   "cell_type": "code",
   "execution_count": null,
   "metadata": {},
   "outputs": [],
   "source": [
    "using JuMP\n",
    "using MathOptInterface # Replaces MathProgBase\n",
    "# shortcuts\n",
    "const MOI = MathOptInterface\n",
    "const MOIU = MathOptInterface.Utilities\n",
    "\n",
    "using GLPK # Loading the GLPK module for using its solver"
   ]
  },
  {
   "cell_type": "code",
   "execution_count": null,
   "metadata": {},
   "outputs": [],
   "source": [
    "include(\"../src/read_data.jl\")\n",
    "include(\"../JuMP/main_JuMP.jl\")"
   ]
  },
  {
   "cell_type": "code",
   "execution_count": null,
   "metadata": {},
   "outputs": [],
   "source": [
    "T=P+1\n",
    "PP=[p for p in 1:P]\n",
    "PPP=[p for p in 0:T]\n",
    "PP0=[p for p in 0:P]\n",
    "PPT=[p for p in 1:T]\n",
    "QQ=[q for q in 1:Q]\n",
    "CC=[c for c in 1:C]\n",
    "\n",
    "\n",
    "function travel_time(current_bay::Int, target_bay::Int, CTS::Constants)\n",
    "    if current_bay == 0 || target_bay == 0\n",
    "        return(0)\n",
    "    else\n",
    "        return(abs(current_bay - target_bay)*CTS.tt)\n",
    "    end\n",
    "end\n",
    "\n",
    "#create bj_dict\n",
    "bj_dict = Dict{Int, Int}()\n",
    "bj_init = Dict{Int, Int}()\n",
    "for p in PP\n",
    "    bj_dict[p] = bj[p]\n",
    "end\n",
    "\n",
    "bj_dict[0] = 0\n",
    "bj_dict[T] = 0\n",
    "bj_init[1] = 1\n",
    "bj_init[2] = 4\n",
    "bj_dict"
   ]
  },
  {
   "cell_type": "code",
   "execution_count": null,
   "metadata": {},
   "outputs": [],
   "source": [
    "model = Model(optimizer_with_attributes(GLPK.Optimizer));\n",
    "# Old syntax: model = Model(solver=GLPKSolverLP(msg_lev = 4)))"
   ]
  },
  {
   "cell_type": "code",
   "execution_count": null,
   "metadata": {},
   "outputs": [],
   "source": [
    "#if positions p, s are performed consecutively by crane q\n",
    "@variable(model, x[p=0:T, s=0:T, q=1:Q], Bin)\n",
    "#if positions p is filled with container i\n",
    "@variable(model, w[p=0:T, i=1:C], Bin)\n",
    "#if position s starts after the completion time of task p\n",
    "@variable(model, z[p=1:P, s=1:P], Bin)\n",
    "\n",
    "#completion time of task p\n",
    "@variable(model, t_load[p=0:T], lower_bound=0, upper_bound=CTS.H)\n",
    "#completion required time to perform task p\n",
    "@variable(model, t_task[p=0:T], lower_bound=0, upper_bound=CTS.H)\n",
    "#completion time of crane q\n",
    "#@variable(model, t_crane[q=1:Q], lower_bound=0, upper_bound=CTS.H)\n",
    "#makespan\n",
    "#@variable(model, makespan, lower_bound=0, upper_bound=CTS.H)\n",
    "\n",
    "\n",
    "#objective function\n",
    "#@objective(model, Min, 0.8*t_load[T] + 0.2*sum(t_crane[q] for q in QQ))\n",
    "@objective(model, Min, t_load[T])"
   ]
  },
  {
   "cell_type": "code",
   "execution_count": null,
   "metadata": {},
   "outputs": [],
   "source": [
    "@constraint(model, [p=0:T, q=1:Q], x[p,p,q] == 0)\n",
    "@constraint(model, [p=1:P], z[p,p] == 0)\n",
    "\n",
    "@constraint(model, t_load[0] == 0)\n",
    "@constraint(model, t_load[T] <= CTS.H)"
   ]
  },
  {
   "cell_type": "code",
   "execution_count": null,
   "metadata": {},
   "outputs": [],
   "source": [
    "@constraint(model, t_task[0] == 0)\n",
    "@constraint(model, t_task[T] == 0)\n",
    "\n",
    "@constraint(model, [p=1:P], t_task[p] == sum(task_times[p,i]*w[p,i] for i in subset_pos(CC, tasks_by_position, p)))"
   ]
  },
  {
   "cell_type": "code",
   "execution_count": null,
   "metadata": {},
   "outputs": [],
   "source": [
    "@constraint(model, [i=1:C], w[0,i] == 0)\n",
    "@constraint(model, [i=1:C], w[T,i] == 0)\n",
    "\n",
    "@constraint(model, [i=1:C], sum(w[p,i] for p in subset_pos(PP, tasks_by_position, i)) == 1)\n",
    "@constraint(model, [p=1:P], sum(w[p,i] for i in subset_pos(CC, tasks_by_position, p)) == 1)"
   ]
  },
  {
   "cell_type": "code",
   "execution_count": null,
   "metadata": {},
   "outputs": [],
   "source": [
    "#@constraint(model, [q=1:Q], t_crane[q] <= t_load[T])"
   ]
  },
  {
   "cell_type": "code",
   "execution_count": null,
   "metadata": {},
   "outputs": [],
   "source": [
    "@constraint(model, [q=1:Q], sum(x[0,s,q] for s in PPT) == 1)\n",
    "@constraint(model, [q=1:Q], sum(x[p,T,q] for p in PP0) == 1)"
   ]
  },
  {
   "cell_type": "code",
   "execution_count": null,
   "metadata": {},
   "outputs": [],
   "source": [
    "@constraint(model, [p=1:P], sum(sum(x[p,s,q] for s in PPT) for q in QQ) == 1)\n",
    "\n",
    "@constraint(model, [p=1:P, q=1:Q], sum(x[s,p,q] for s in PP0) - sum(x[p,s,q] for s in PPT) == 0)"
   ]
  },
  {
   "cell_type": "code",
   "execution_count": null,
   "metadata": {},
   "outputs": [],
   "source": [
    "for s in PP\n",
    "    for p in prec[s]\n",
    "        @constraint(model, t_load[p] + 2*t_task[s] - t_load[s] <= 0)\n",
    "        @constraint(model, z[p,s] + z[s,p] == 1)\n",
    "    end\n",
    "end"
   ]
  },
  {
   "cell_type": "code",
   "execution_count": null,
   "metadata": {},
   "outputs": [],
   "source": [
    "for p in PPP\n",
    "    for s in PPP\n",
    "        if p != s\n",
    "            for q in QQ\n",
    "                @constraint(model, t_load[p] + travel_time(bj_dict[p], bj_dict[s], CTS) + 2*t_task[s] - t_load[s] <= CTS.H*(1-x[p,s,q]))\n",
    "            end\n",
    "        end\n",
    "    end\n",
    "end\n",
    "\n",
    "for p in PP\n",
    "    for s in PP\n",
    "        if p != s\n",
    "            @constraint(model, t_load[p] + 2*t_task[s] - t_load[s] <= CTS.H*(1-z[p,s]))\n",
    "            @constraint(model, t_load[s] - 2*t_task[s] - t_load[p] <= CTS.H*z[p,s])\n",
    "\n",
    "            if bj_dict[p] == bj_dict[s]\n",
    "                custom_set=Array{Int,1}()\n",
    "                custom_set = collect(setdiff(Set(PP0),Set(bay_to_pos(bj_dict[p], bj))))\n",
    "                @constraint(model, t_load[p] + 2*t_task[s] - t_load[s] + CTS.tt*sum(sum(x[u,s,q] for u in custom_set) for q in QQ) <= CTS.H*(1-z[p,s]))\n",
    "                @constraint(model, t_load[s] - 2*t_task[s] - t_load[p] + CTS.tt*sum(sum(x[u,s,q] for u in custom_set) for q in QQ) <= CTS.H*z[p,s])\n",
    "            end\n",
    "        end\n",
    "    end\n",
    "end"
   ]
  },
  {
   "cell_type": "code",
   "execution_count": null,
   "metadata": {},
   "outputs": [],
   "source": [
    "#@constraint(model, [p=1:P, q=1:Q], t_load[p] + travel_time(p, bj_start_end[1, q], CTS) - t_crane[q] <= CTS.H*(1-x[p,T,q]))\n",
    "#@constraint(model, [p=1:P, q=1:Q], t_load[p] - t_crane[q] <= CTS.H*(1-x[p,T,q]))\n",
    "\n",
    "@constraint(model, [s=1:P, q=1:Q], travel_time(bj_init[q], s, CTS) + 2*t_task[s] - t_load[s] <= CTS.H*(1-x[0,s,q]))\n",
    "#@constraint(model, [s=1:P, q=1:Q], t_task[s] - t_load[s] <= CTS.H*(1-x[0,s,q]))"
   ]
  },
  {
   "cell_type": "code",
   "execution_count": null,
   "metadata": {},
   "outputs": [],
   "source": [
    "for p in PP\n",
    "    for s in PP\n",
    "        if p != s && bj_dict[p] < bj_dict[s]\n",
    "            for q in QQ\n",
    "                @constraint(model, sum(sum(x[u,s,v] for u in PP0) for v in collect(1:q)) - sum(sum(x[u,p,v] for u in PPT) for v in collect(1:q)) <= CTS.H*(z[p,s] + z[s,p]))\n",
    "            end\n",
    "        end\n",
    "    end\n",
    "end"
   ]
  },
  {
   "cell_type": "markdown",
   "metadata": {},
   "source": [
    "## Solution"
   ]
  },
  {
   "cell_type": "code",
   "execution_count": null,
   "metadata": {},
   "outputs": [],
   "source": [
    "JuMP.optimize!(model) # Old syntax: status = JuMP.solve(model)"
   ]
  },
  {
   "cell_type": "code",
   "execution_count": null,
   "metadata": {},
   "outputs": [],
   "source": [
    "makespan = JuMP.value.(t_load)[T]"
   ]
  },
  {
   "cell_type": "code",
   "execution_count": null,
   "metadata": {},
   "outputs": [],
   "source": [
    "sol_x = Dict{Int, Array}()\n",
    "for q=1:Q\n",
    "    for p=0:T\n",
    "        for s=0:T\n",
    "            if JuMP.value.(x)[p,s,q] == 1\n",
    "                if haskey(sol_x, q) == false\n",
    "                    sol_x[q] = Array{NamedTuple{(:load_time, :pos, :next_pos, :qc),Tuple{Int64,Int64,Int64,Int64}}, 1}()\n",
    "                end\n",
    "                push!(sol_x[q], (load_time=JuMP.value.(t_load)[p], pos=p, next_pos=s, qc=q))\n",
    "            end                \n",
    "        end\n",
    "    end\n",
    "    sort!(sol_x[q], by = x->x.load_time)\n",
    "end\n",
    "\n",
    "sol_x[1]"
   ]
  },
  {
   "cell_type": "code",
   "execution_count": null,
   "metadata": {},
   "outputs": [],
   "source": [
    "sol_x[2]"
   ]
  },
  {
   "cell_type": "code",
   "execution_count": null,
   "metadata": {},
   "outputs": [],
   "source": [
    "sol_w = Dict{Int, Int}()\n",
    "for p=1:P\n",
    "    for i=1:C\n",
    "        if JuMP.value.(w)[p,i] == 1\n",
    "            sol_w[p] = i             \n",
    "        end\n",
    "    end\n",
    "end\n",
    "sol_w[0] = 0\n",
    "sol_w[T] = 0\n",
    "\n",
    "sol_w"
   ]
  },
  {
   "cell_type": "code",
   "execution_count": null,
   "metadata": {},
   "outputs": [],
   "source": [
    "LS = init_ls(CTS)"
   ]
  },
  {
   "cell_type": "code",
   "execution_count": null,
   "metadata": {},
   "outputs": [],
   "source": [
    "function update_ls(LS::LoadingSequence, t::NamedTuple{(:load_time, :pos, :next_pos, :qc),Tuple{Int64,Int64,Int64,Int64,}}, sol_w::Dict{Int, Int}, CTS::Constants)\n",
    "    start_time = t.load_time-2*JuMP.value.(t_task)[t.pos]\n",
    "    if t.pos != 0\n",
    "        LS.len += 1\n",
    "        LS.tasks_left -= 1\n",
    "        push!(LS.filled_pos, t.pos)\n",
    "        push!(LS.loaded_cont, sol_w[t.pos])\n",
    "    end\n",
    "    push!(LS.order, (Task(t.pos, bj_dict[t.pos], sol_w[t.pos], JuMP.value.(t_task)[t.pos]), start_time, t.qc))\n",
    "end"
   ]
  },
  {
   "cell_type": "code",
   "execution_count": null,
   "metadata": {},
   "outputs": [],
   "source": [
    "while LS.tasks_left > 0\n",
    "    task = [(load_time=CTS.H+1,pos=0,next_pos=0,qc=0)]\n",
    "    for q=1:Q\n",
    "        if sol_x[q][1].load_time < task[1].load_time\n",
    "            task = [sol_x[q][1]]\n",
    "        elseif sol_x[q][1].load_time == task[1].load_time\n",
    "            push!(task, sol_x[q][1])\n",
    "        end\n",
    "    end\n",
    "\n",
    "    for t in task\n",
    "        update_ls(LS, t, sol_w, CTS)\n",
    "        if sol_x[t.qc][1] == t\n",
    "            deleteat!(sol_x[t.qc], 1)\n",
    "        end\n",
    "    end\n",
    "end"
   ]
  },
  {
   "cell_type": "code",
   "execution_count": null,
   "metadata": {},
   "outputs": [],
   "source": [
    "LS"
   ]
  },
  {
   "cell_type": "code",
   "execution_count": null,
   "metadata": {},
   "outputs": [],
   "source": [
    "for p in PP\n",
    "    print(JuMP.value.(t_task)[p])\n",
    "    print(\"\\n\")\n",
    "end"
   ]
  },
  {
   "cell_type": "code",
   "execution_count": null,
   "metadata": {},
   "outputs": [],
   "source": [
    "function check_tasks(LS::LoadingSequence, CTS::Constants)\n",
    "    if length(LS.filled_pos) == P && length(LS.loaded_cont) == C && length(setdiff(LS.filled_pos, collect(1:P))) == 0 && length(setdiff(LS.loaded_cont, collect(1:C))) == 0\n",
    "        return(true)\n",
    "    else\n",
    "        return(false)\n",
    "    end\n",
    "end\n",
    "\n",
    "function check_clearance(QC::Array{QuayCrane, 1}, q::Int, target_bay::Int, CTS::Constants)\n",
    "    if QC[q-1].current_bay < target_bay - CTS.delta && QC[q+1].current_bay > target_bay + CTS.delta\n",
    "        return(true)\n",
    "    end\n",
    "    return(false)\n",
    "end\n",
    "\n",
    "function check_prec(LS::LoadingSequence, task::Task, precedences::Dict)\n",
    "    for req in precedences[task.p]\n",
    "        if !(req in LS.filled_pos)\n",
    "            print(\"trying to add position, but still missing\")\n",
    "            print(setdiff(precedences[task.p],LS.filled_pos))\n",
    "            return(false)\n",
    "        end\n",
    "    end\n",
    "    return(true)\n",
    "end\n"
   ]
  },
  {
   "cell_type": "code",
   "execution_count": null,
   "metadata": {},
   "outputs": [],
   "source": [
    "check_tasks(LS,CTS)"
   ]
  },
  {
   "cell_type": "code",
   "execution_count": null,
   "metadata": {},
   "outputs": [],
   "source": [
    "for task in LS.order\n",
    "    if task[1].p != 0\n",
    "        if check_prec(LS,task[1],prec) == false\n",
    "            return(false)\n",
    "        end\n",
    "    end\n",
    "end\n",
    "return(true)"
   ]
  },
  {
   "cell_type": "code",
   "execution_count": null,
   "metadata": {},
   "outputs": [],
   "source": []
  }
 ],
 "metadata": {
  "kernelspec": {
   "display_name": "Julia 1.3.1",
   "language": "julia",
   "name": "julia-1.3"
  },
  "language_info": {
   "file_extension": ".jl",
   "mimetype": "application/julia",
   "name": "julia",
   "version": "1.3.1"
  }
 },
 "nbformat": 4,
 "nbformat_minor": 4
}
