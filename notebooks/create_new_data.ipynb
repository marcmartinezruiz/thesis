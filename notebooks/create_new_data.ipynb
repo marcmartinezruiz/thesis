{
 "cells": [
  {
   "cell_type": "code",
   "execution_count": null,
   "metadata": {},
   "outputs": [],
   "source": [
    "include(\"../src/data_creation.jl\")"
   ]
  },
  {
   "cell_type": "code",
   "execution_count": null,
   "metadata": {},
   "outputs": [],
   "source": [
    "for num_C in [\"60\", \"240\", \"500\", \"1000\"]\n",
    "    if num_C == \"60\"\n",
    "        Type = [\"10\", \"25\"]\n",
    "        QuayCranes = [\"2QC\"]\n",
    "        Vehicles = [\"6TV\"]\n",
    "    elseif num_C == \"240\"\n",
    "        Type = [\"20\", \"60\"]\n",
    "        QuayCranes = [\"2QC\"]\n",
    "        Vehicles = [\"6TV\"]\n",
    "    else\n",
    "        Type = [\"20\", \"60\", \"100\"]\n",
    "        QuayCranes = [\"4QC\"]\n",
    "        Vehicles = [\"12TV\"]\n",
    "    end\n",
    "    \n",
    "    for type_C in Type\n",
    "        for density in [\"UniformDense\", \"Scattered\", \"LessDense\"]\n",
    "            for num_QC in QuayCranes\n",
    "                for num_TV in Vehicles\n",
    "                    #read data\n",
    "                    doc = \"../data/OldBenchmark/\"*num_C*\"C_\"*type_C*\"Type_\"*density*\"_\"*num_QC*\"_\"*num_TV*\".txt\"\n",
    "                    C,P,CP,S,Q,mt,beta,EFT,ci,pj,qj,sj,prejj,cpij = read_initial_data(doc)\n",
    "                    \n",
    "                    #bay split and precedences\n",
    "                    (J, bj, precedences) = new_bays(parse(Int, num_C), P)\n",
    "                    \n",
    "                    #write new data\n",
    "                    if num_TV == \"6TV\"\n",
    "                        output = \"../data/Benchmark/\"*doc[22:end-8]*\".txt\"\n",
    "                    else\n",
    "                        output = \"../data/Benchmark/\"*doc[22:end-9]*\".txt\"\n",
    "                    end\n",
    "                    write_file(output,C,P,CP,Q,J,1,1,ci,pj,bj,precedences,cpij)\n",
    "                    end\n",
    "                end\n",
    "            end\n",
    "        end\n",
    "    end\n",
    "end\n"
   ]
  },
  {
   "cell_type": "code",
   "execution_count": null,
   "metadata": {},
   "outputs": [],
   "source": []
  }
 ],
 "metadata": {
  "kernelspec": {
   "display_name": "Julia 1.3.1",
   "language": "julia",
   "name": "julia-1.3"
  },
  "language_info": {
   "file_extension": ".jl",
   "mimetype": "application/julia",
   "name": "julia",
   "version": "1.3.1"
  }
 },
 "nbformat": 4,
 "nbformat_minor": 4
}
