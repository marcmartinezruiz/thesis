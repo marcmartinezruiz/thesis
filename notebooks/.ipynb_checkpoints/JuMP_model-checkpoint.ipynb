{
 "cells": [
  {
   "cell_type": "code",
   "execution_count": null,
   "metadata": {},
   "outputs": [],
   "source": [
    "import Pkg\n",
    "#Pkg.add(\"MathOptInterface\")\n",
    "#Pkg.add(\"GLPK\")\n",
    "Pkg.activate(@__DIR__)\n",
    "Pkg.instantiate()"
   ]
  },
  {
   "cell_type": "code",
   "execution_count": null,
   "metadata": {},
   "outputs": [],
   "source": [
    "include(\"../src/read_data.jl\")\n",
    "include(\"../JuMP/main_JuMP.jl\")"
   ]
  },
  {
   "cell_type": "code",
   "execution_count": null,
   "metadata": {},
   "outputs": [],
   "source": [
    "using JuMP\n",
    "using MathOptInterface # Replaces MathProgBase\n",
    "# shortcuts\n",
    "const MOI = MathOptInterface\n",
    "const MOIU = MathOptInterface.Utilities\n",
    "\n",
    "using GLPK # Loading the GLPK module for using its solver"
   ]
  },
  {
   "cell_type": "code",
   "execution_count": null,
   "metadata": {},
   "outputs": [],
   "source": [
    "model = Model(with_optimizer(GLPK.Optimizer, msg_lev = 4));  \n",
    "# Old syntax: model = Model(solver=GLPKSolverLP(msg_lev = 4)))"
   ]
  },
  {
   "cell_type": "code",
   "execution_count": null,
   "metadata": {},
   "outputs": [],
   "source": [
    "@variable(model, x[p=1:P, i=1:C, q=1:Q], Bin)\n",
    "@variable(model, y[t=0:H-1, j=1:J, q=1:Q], Bin)\n",
    "@variable(model, tc[p=1:P, q=1:Q], lower_bound=0, upper_bound=H, start=0)\n",
    "#@variable(model, z, Int, lower_bound=0, upper_bound=H, start=0)\n",
    "@variable(model, Start[q=1:Q], lower_bound=0, upper_bound=H, start=0)\n",
    "@variable(model, End[q=1:Q], lower_bound=0, upper_bound=H, start=0)"
   ]
  },
  {
   "cell_type": "code",
   "execution_count": null,
   "metadata": {},
   "outputs": [],
   "source": [
    "JJ=[j for j in 1:J]\n",
    "PP=[p for p in 1:P]\n",
    "CC=[c for c in 1:C]\n",
    "QQ=[q for q in 1:Q]"
   ]
  },
  {
   "cell_type": "code",
   "execution_count": null,
   "metadata": {},
   "outputs": [],
   "source": [
    "@objective(model, Min, sum(End[q] for q in QQ))"
   ]
  },
  {
   "cell_type": "markdown",
   "metadata": {},
   "source": [
    "(1),(2) Ensure each container/position is only loaded/filled once."
   ]
  },
  {
   "cell_type": "code",
   "execution_count": null,
   "metadata": {},
   "outputs": [],
   "source": [
    "@constraint(model, [i=1:C], sum(sum(x[p,i,q] for q in subset_crane_pos(CTS, p, bj)) for p in subset_pos(PP, tasks_by_position, i)) == 1)\n",
    "@constraint(model, [p=1:P], sum(sum(x[p,i,q] for q in subset_crane_pos(CTS, p, bj)) for i in subset_pos(CC, tasks_by_position, p)) == 1)"
   ]
  },
  {
   "cell_type": "markdown",
   "metadata": {},
   "source": [
    "(10) Just one crane per bay at a given time"
   ]
  },
  {
   "cell_type": "code",
   "execution_count": null,
   "metadata": {},
   "outputs": [],
   "source": [
    "@constraint(model, [t=0:H-1, q=1:Q], sum(y[t,j,q] for j in JJ) == 1)\n",
    "@constraint(model, [t=0:H-1, j=1:J], sum(y[t,j,q] for q in QQ) == 1)"
   ]
  },
  {
   "cell_type": "markdown",
   "metadata": {},
   "source": [
    "(3) Ensure shipping containers loading order (precedences and time)"
   ]
  },
  {
   "cell_type": "markdown",
   "metadata": {},
   "source": [
    "for i = 1:C\n",
    "    for p in subset_pos(PP, tasks_by_position, i)\n",
    "        if length(prec[p]) > 0\n",
    "            for q = 1:Q\n",
    "                for pp in collect(intersect(Set(subset_pos_crane(CTS, q, bj)),Set(prec[p])))\n",
    "                    @constraint(model, 2*task_times[p,i] - CTS.H*(2-x[p,i,q]-sum(x[pp,ii,q] for ii in subset_pos(CC, tasks_by_position, pp))) <= tc[p,q] - tc[pp,q])\n",
    "                end\n",
    "            end\n",
    "        end\n",
    "    end\n",
    "end"
   ]
  },
  {
   "cell_type": "markdown",
   "metadata": {},
   "source": [
    "(4)  Ensure shipping containers loading order (direct precedences and travel time)"
   ]
  },
  {
   "cell_type": "code",
   "execution_count": null,
   "metadata": {},
   "outputs": [],
   "source": [
    "function travel_time(current_bay::Int, target_bay::Int, CTS::Constants)\n",
    "    return(abs(current_bay - target_bay)*CTS.tt)\n",
    "end\n",
    "\n",
    "#constraint --> travel_time(bj[p], bj[ppp], CTS)"
   ]
  },
  {
   "cell_type": "markdown",
   "metadata": {},
   "source": [
    "for p = 1:P\n",
    "    for q = 1:Q\n",
    "        if length(prec[p]) > 0\n",
    "            for ppp in collect(intersect(Set(subset_pos_crane(CTS, q, bj)), Set(sort(prec[p], rev=true)[1])))\n",
    "                @constraint(model, sum(tc[p,q] for q in QQ) >= sum(tc[ppp,q] for q in QQ))\n",
    "            end\n",
    "        end\n",
    "    end\n",
    "end"
   ]
  },
  {
   "cell_type": "markdown",
   "metadata": {},
   "source": [
    "(5) Max finishing time for each task,  (6) Min finishing time for each task"
   ]
  },
  {
   "cell_type": "code",
   "execution_count": null,
   "metadata": {},
   "outputs": [],
   "source": [
    "for p = 1:P\n",
    "    for q in subset_crane_pos(CTS, p, bj)\n",
    "        @constraint(model, tc[p,q] <= CTS.H*sum(x[p,i,q] for i in subset_pos(CC, tasks_by_position, p)))\n",
    "        @constraint(model, tc[p,q] >= sum((task_times[i,p]*x[p,i,q]) for i in subset_pos(CC, tasks_by_position, p)))\n",
    "    end\n",
    "end"
   ]
  },
  {
   "cell_type": "markdown",
   "metadata": {},
   "source": [
    "(7) Relation between y[t,j,q] and tc[p,q]"
   ]
  },
  {
   "cell_type": "code",
   "execution_count": null,
   "metadata": {},
   "outputs": [],
   "source": [
    "for t = 0:H-1\n",
    "    for p = 1:P\n",
    "        for q in subset_crane_pos(CTS, p, bj)\n",
    "           @constraint(model, tc[p,q] <= y[t,bj[p],q]*CTS.H)\n",
    "        end\n",
    "    end\n",
    "end"
   ]
  },
  {
   "cell_type": "markdown",
   "metadata": {},
   "source": [
    "(8) Guarantee no tasks assigned if not available qc"
   ]
  },
  {
   "cell_type": "code",
   "execution_count": null,
   "metadata": {},
   "outputs": [],
   "source": [
    "for i = 1:C\n",
    "    for p = 1:P\n",
    "        for q in setdiff(Set(QQ),Set(subset_crane_pos(CTS, p, bj)))\n",
    "            @constraint(model, x[p,i,q] == 0)\n",
    "        end\n",
    "    end\n",
    "end"
   ]
  },
  {
   "cell_type": "markdown",
   "metadata": {},
   "source": [
    "(9) Guarantee no crane assigned to a bay if not allowed"
   ]
  },
  {
   "cell_type": "code",
   "execution_count": null,
   "metadata": {},
   "outputs": [],
   "source": [
    "for t = 0:H-1\n",
    "    for q = 1:Q\n",
    "        for j in setdiff(Set(JJ),Set(subset_bay(CTS, q)))\n",
    "            @constraint(model, y[t,j,q] == 0)\n",
    "        end\n",
    "    end\n",
    "end"
   ]
  },
  {
   "cell_type": "markdown",
   "metadata": {},
   "source": [
    "(11) Cranes left/right clearance"
   ]
  },
  {
   "cell_type": "markdown",
   "metadata": {},
   "source": [
    "@constraint(model, [t=0:H-1, q=1:Q, s=1:Q, j=2:J], 1-y[t,j,q] >= sum(y[t,l,s] for l in collect(max(1,j-d):j-1)))\n",
    "@constraint(model, [t=0:H-1, q=1:Q, s=1:Q, j=1:J-1], 1-y[t,j,q] >= sum(y[t,l,s] for l in collect(j+1:min(j+d,J))))"
   ]
  },
  {
   "cell_type": "markdown",
   "metadata": {},
   "source": [
    "(12) Cranes cannot cross each other"
   ]
  },
  {
   "cell_type": "markdown",
   "metadata": {},
   "source": [
    "@constraint(model, [t=0:H-1, q=1:Q-1, j=1:J-1], y[t,j,q] <= sum(y[t,l,q+1] for l in collect(j+1:J)))\n",
    "@constraint(model, [t=0:H-1, q=2:Q, j=2:J], y[t,j,q] <= sum(y[t,l,q-1] for l in collect(1:j-1)))"
   ]
  },
  {
   "cell_type": "markdown",
   "metadata": {},
   "source": [
    "(13) Crane q=1 works top-left and q=Q works top-right"
   ]
  },
  {
   "cell_type": "markdown",
   "metadata": {},
   "source": [
    "@constraint(model, [t=0:H-1, q=2:Q, j=1:q-1], y[t,j,q] == 0)\n",
    "@constraint(model, [t=0:H-1, q=1:Q-1, j=J-(Q-q)+1:J], y[t,j,q] == 0)"
   ]
  },
  {
   "cell_type": "markdown",
   "metadata": {},
   "source": [
    "(14) Crane initialization"
   ]
  },
  {
   "cell_type": "code",
   "execution_count": null,
   "metadata": {},
   "outputs": [],
   "source": [
    "for q = 1:Q\n",
    "    for p = 1:P\n",
    "        @constraint(model, tc[p,q]-sum((task_times[i,p]*x[p,i,q]) for i in CC)+CTS.H*(1-sum(x[p,i,q] for i in CC)) >= Start[q])\n",
    "    end\n",
    "end"
   ]
  },
  {
   "cell_type": "markdown",
   "metadata": {},
   "source": [
    "(15) Crane ending time + relate Start and End"
   ]
  },
  {
   "cell_type": "code",
   "execution_count": null,
   "metadata": {},
   "outputs": [],
   "source": [
    "@constraint(model, [p=1:P, q=1:Q], tc[p,q] <= End[q])\n",
    "@constraint(model, [q=1:Q], Start[q] <= End[q])\n",
    "#@constraint(model, [p=1:P, q=1:Q], tc[p,q] <= z)"
   ]
  },
  {
   "cell_type": "code",
   "execution_count": null,
   "metadata": {},
   "outputs": [],
   "source": [
    "JuMP.optimize!(model) # Old syntax: status = JuMP.solve(model)"
   ]
  },
  {
   "cell_type": "code",
   "execution_count": null,
   "metadata": {},
   "outputs": [],
   "source": [
    "@show JuMP.has_values(model)\n",
    "@show JuMP.termination_status(model) == MOI.OPTIMAL\n",
    "@show JuMP.primal_status(model) == MOI.FEASIBLE_POINT\n",
    "@show JuMP.dual_status(model) == MOI.FEASIBLE_POINT"
   ]
  },
  {
   "cell_type": "code",
   "execution_count": null,
   "metadata": {},
   "outputs": [],
   "source": [
    "@show JuMP.value.(x)              # Old syntax: getvalue(x)\n",
    "@show JuMP.value.(tc)              # Old syntax: getvalue(y)\n",
    "@show JuMP.objective_value(model)       # Old syntax: getobjectivevalue(model)"
   ]
  },
  {
   "cell_type": "code",
   "execution_count": null,
   "metadata": {},
   "outputs": [],
   "source": [
    "sol_x = Dict{Int, Array}()\n",
    "for p=1:P\n",
    "    for i=1:C\n",
    "        for q=1:Q\n",
    "            if JuMP.value.(x)[p,i,q] == 1\n",
    "                if haskey(sol_x, q) == false\n",
    "                    sol_x[q] = Array{NamedTuple{(:pos, :cont),Tuple{Int64,Int64}}, 1}()\n",
    "                end\n",
    "                push!(sol_x[q], (pos=p, cont=i))\n",
    "            end                \n",
    "        end\n",
    "    end\n",
    "end\n",
    "\n",
    "sol_x[1]"
   ]
  },
  {
   "cell_type": "code",
   "execution_count": null,
   "metadata": {},
   "outputs": [],
   "source": [
    "sol_x[2]"
   ]
  },
  {
   "cell_type": "code",
   "execution_count": null,
   "metadata": {},
   "outputs": [],
   "source": [
    "sol_t = JuMP.value.(tc)"
   ]
  },
  {
   "cell_type": "code",
   "execution_count": null,
   "metadata": {},
   "outputs": [],
   "source": [
    "@show JuMP.value.(Start)     "
   ]
  },
  {
   "cell_type": "code",
   "execution_count": null,
   "metadata": {},
   "outputs": [],
   "source": [
    "@show JuMP.value.(End)     "
   ]
  },
  {
   "cell_type": "code",
   "execution_count": null,
   "metadata": {},
   "outputs": [],
   "source": []
  }
 ],
 "metadata": {
  "kernelspec": {
   "display_name": "Julia 1.3.1",
   "language": "julia",
   "name": "julia-1.3"
  },
  "language_info": {
   "file_extension": ".jl",
   "mimetype": "application/julia",
   "name": "julia",
   "version": "1.3.1"
  }
 },
 "nbformat": 4,
 "nbformat_minor": 4
}
