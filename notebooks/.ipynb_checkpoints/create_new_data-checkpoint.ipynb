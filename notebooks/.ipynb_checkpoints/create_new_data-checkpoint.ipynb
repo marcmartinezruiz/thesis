{
 "cells": [
  {
   "cell_type": "code",
   "execution_count": 26,
   "metadata": {},
   "outputs": [
    {
     "data": {
      "text/plain": [
       "write_file (generic function with 1 method)"
      ]
     },
     "execution_count": 26,
     "metadata": {},
     "output_type": "execute_result"
    }
   ],
   "source": [
    "include(\"../src/data_creation.jl\")"
   ]
  },
  {
   "cell_type": "code",
   "execution_count": 27,
   "metadata": {},
   "outputs": [
    {
     "name": "stdout",
     "output_type": "stream",
     "text": [
      "[14, 25, 32, 45, 53][7, 24, 28, 41, 48][13, 23, 30, 45, 54][8, 25, 35, 41, 52][14, 24, 26, 39, 46][6, 21, 35, 37, 50][29, 98, 129, 173, 195][34, 85, 119, 158, 215][28, 77, 132, 143, 191][26, 65, 114, 176, 192][22, 75, 132, 178, 215][48, 82, 108, 157, 207][78, 176, 232, 345, 421][60, 131, 237, 352, 413][103, 155, 250, 310, 429][52, 132, 212, 328, 396][113, 175, 218, 323, 395][91, 164, 275, 348, 380][80, 132, 258, 362, 396][90, 200, 275, 313, 381][58, 197, 253, 367, 451][170, 379, 578, 684, 802][195, 333, 432, 671, 904][205, 252, 458, 594, 844][211, 367, 500, 619, 874][107, 401, 422, 728, 906][207, 361, 419, 589, 901][228, 361, 558, 645, 909][202, 270, 576, 707, 838][208, 380, 433, 696, 758]"
     ]
    },
    {
     "ename": "LoadError",
     "evalue": "syntax: unexpected \"end\"",
     "output_type": "error",
     "traceback": [
      "syntax: unexpected \"end\"",
      ""
     ]
    }
   ],
   "source": [
    "for num_C in [\"60\", \"240\", \"500\", \"1000\"]\n",
    "    if num_C == \"60\"\n",
    "        Type = [\"10\", \"25\"]\n",
    "        QuayCranes = [\"2QC\"]\n",
    "        Vehicles = [\"6TV\"]\n",
    "    elseif num_C == \"240\"\n",
    "        Type = [\"20\", \"60\"]\n",
    "        QuayCranes = [\"2QC\"]\n",
    "        Vehicles = [\"6TV\"]\n",
    "    else\n",
    "        Type = [\"20\", \"60\", \"100\"]\n",
    "        QuayCranes = [\"4QC\"]\n",
    "        Vehicles = [\"12TV\"]\n",
    "    end\n",
    "    \n",
    "    for type_C in Type\n",
    "        for density in [\"UniformDense\", \"Scattered\", \"LessDense\"]\n",
    "            for num_QC in QuayCranes\n",
    "                for num_TV in Vehicles\n",
    "                    #read data\n",
    "                    doc = \"../data/OldBenchmark/\"*num_C*\"C_\"*type_C*\"Type_\"*density*\"_\"*num_QC*\"_\"*num_TV*\".txt\"\n",
    "                    C,P,CP,S,Q,mt,beta,EFT,ci,pj,qj,sj,prejj,cpij = read_initial_data(doc)\n",
    "                    \n",
    "                    #bay split and precedences\n",
    "                    (J, bj, precedences) = new_bays(parse(Int, num_C), P)\n",
    "                    \n",
    "                    #write new data\n",
    "                    if num_TV == \"6TV\"\n",
    "                        output = \"../data/Benchmark/\"*doc[22:end-8]*\".txt\"\n",
    "                    else\n",
    "                        output = \"../data/Benchmark/\"*doc[22:end-9]*\".txt\"\n",
    "                    end\n",
    "                    write_file(output,C,P,CP,Q,J,1,1,ci,pj,bj,precedences,cpij)\n",
    "                    end\n",
    "                end\n",
    "            end\n",
    "        end\n",
    "    end\n",
    "end\n"
   ]
  },
  {
   "cell_type": "code",
   "execution_count": 22,
   "metadata": {},
   "outputs": [
    {
     "data": {
      "text/plain": [
       "3"
      ]
     },
     "execution_count": 22,
     "metadata": {},
     "output_type": "execute_result"
    }
   ],
   "source": [
    "Int(floor(3.2))"
   ]
  },
  {
   "cell_type": "code",
   "execution_count": 28,
   "metadata": {},
   "outputs": [
    {
     "data": {
      "text/plain": [
       "\"60\""
      ]
     },
     "execution_count": 28,
     "metadata": {},
     "output_type": "execute_result"
    }
   ],
   "source": [
    "a=\"60\""
   ]
  },
  {
   "cell_type": "code",
   "execution_count": 29,
   "metadata": {},
   "outputs": [
    {
     "ename": "MethodError",
     "evalue": "MethodError: no method matching Int64(::String)\nClosest candidates are:\n  Int64(!Matched::Union{Bool, Int32, Int64, UInt32, UInt64, UInt8, Int128, Int16, Int8, UInt128, UInt16}) at boot.jl:710\n  Int64(!Matched::Ptr) at boot.jl:720\n  Int64(!Matched::Float32) at float.jl:706\n  ...",
     "output_type": "error",
     "traceback": [
      "MethodError: no method matching Int64(::String)\nClosest candidates are:\n  Int64(!Matched::Union{Bool, Int32, Int64, UInt32, UInt64, UInt8, Int128, Int16, Int8, UInt128, UInt16}) at boot.jl:710\n  Int64(!Matched::Ptr) at boot.jl:720\n  Int64(!Matched::Float32) at float.jl:706\n  ...",
      "",
      "Stacktrace:",
      " [1] top-level scope at In[29]:1"
     ]
    }
   ],
   "source": [
    "Int(a)"
   ]
  },
  {
   "cell_type": "code",
   "execution_count": 30,
   "metadata": {},
   "outputs": [
    {
     "data": {
      "text/plain": [
       "60"
      ]
     },
     "execution_count": 30,
     "metadata": {},
     "output_type": "execute_result"
    }
   ],
   "source": [
    "parse(Int, a)"
   ]
  },
  {
   "cell_type": "code",
   "execution_count": null,
   "metadata": {},
   "outputs": [],
   "source": []
  }
 ],
 "metadata": {
  "kernelspec": {
   "display_name": "Julia 1.3.1",
   "language": "julia",
   "name": "julia-1.3"
  },
  "language_info": {
   "file_extension": ".jl",
   "mimetype": "application/julia",
   "name": "julia",
   "version": "1.3.1"
  }
 },
 "nbformat": 4,
 "nbformat_minor": 4
}
