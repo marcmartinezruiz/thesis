{
 "cells": [
  {
   "cell_type": "code",
   "execution_count": null,
   "metadata": {},
   "outputs": [],
   "source": [
    "import Pkg\n",
    "#Pkg.add(\"Gurobi\")\n",
    "#Pkg.build(\"Gurobi\")\n",
    "#Pkg.add(\"DataFrames\")\n",
    "Pkg.activate(@__DIR__)\n",
    "Pkg.instantiate()"
   ]
  },
  {
   "cell_type": "code",
   "execution_count": null,
   "metadata": {},
   "outputs": [],
   "source": [
    "include(\"../src/input_data/read_data.jl\")\n",
    "include(\"../JuMP/main_JuMP.jl\") "
   ]
  },
  {
   "cell_type": "code",
   "execution_count": null,
   "metadata": {},
   "outputs": [],
   "source": [
    "PP=[p for p in 1:P]\n",
    "CC=[c for c in 1:C]\n",
    "using JuMP, Gurobi\n",
    "model = JuMP.direct_model(Gurobi.Optimizer(OutputFlag=0, Threads=4))\n",
    "\n",
    "#if positions p is filled with container i\n",
    "@variable(model, w[p=1:P, i=1:C], Bin)\n",
    "#completion required time to perform task p\n",
    "@variable(model, t_task[p=1:P], lower_bound=0, upper_bound=CTS.H)\n",
    "\n",
    "#objective function\n",
    "@objective(model, Min, sum(t_task[p] for p in PP));"
   ]
  },
  {
   "cell_type": "code",
   "execution_count": null,
   "metadata": {},
   "outputs": [],
   "source": [
    "#constraints regarding tasks selection (position-container combination)\n",
    "@constraint(model, [i=1:C], sum(w[p,i] for p in subset_pos(PP, tasks_by_position, i)) == 1)\n",
    "@constraint(model, [p=1:P], sum(w[p,i] for i in subset_pos(CC, tasks_by_position, p)) == 1)\n",
    "\n",
    "@constraint(model, [p=1:P], t_task[p] == sum(task_times[p,i]*w[p,i] for i in subset_pos(CC, tasks_by_position, p)));"
   ]
  },
  {
   "cell_type": "markdown",
   "metadata": {},
   "source": [
    "## Solution"
   ]
  },
  {
   "cell_type": "code",
   "execution_count": null,
   "metadata": {},
   "outputs": [],
   "source": [
    "@time JuMP.optimize!(model) # Old syntax: status = JuMP.solve(model)"
   ]
  },
  {
   "cell_type": "code",
   "execution_count": null,
   "metadata": {},
   "outputs": [],
   "source": [
    "sol_w = Dict{Int, Int}()\n",
    "for p=1:P\n",
    "    for i=1:C\n",
    "        if JuMP.value.(w)[p,i] == 1\n",
    "            sol_w[p] = i             \n",
    "        end\n",
    "    end\n",
    "end\n",
    "\n",
    "tasks_by_w = Dict{Int, Task}()\n",
    "for p = 1:P\n",
    "    for t in tasks_by_position[p]\n",
    "        if t.c == sol_w[p]\n",
    "            tasks_by_w[p] = t\n",
    "        end\n",
    "    end\n",
    "end\n",
    "\n",
    "tasks_by_w;"
   ]
  },
  {
   "cell_type": "code",
   "execution_count": null,
   "metadata": {},
   "outputs": [],
   "source": [
    "#include(\"../src/heuristics/GRASP.jl\")\n",
    "include(\"../src/heuristics/GRASP.jl\")\n",
    "include(\"../src/basics/validations.jl\")\n",
    "include(\"../src/basics/basic_functions.jl\");"
   ]
  },
  {
   "cell_type": "code",
   "execution_count": null,
   "metadata": {},
   "outputs": [],
   "source": [
    "makespan = CTS.H\n",
    "best_LS = init_ls(CTS)\n",
    "wrong_LS = init_ls(CTS)\n",
    "wrong_it = 0;"
   ]
  },
  {
   "cell_type": "code",
   "execution_count": null,
   "metadata": {},
   "outputs": [],
   "source": [
    "for iter = 1:50\n",
    "    #init Loading Sequence and Quay Cranes\n",
    "    LS = init_ls(CTS)\n",
    "    QC = init_qc(CTS)\n",
    "    TIME = init_timer(CTS)\n",
    "    \n",
    "    while LS.tasks_left > 0 && TIME.period < TIME.horizon_plan\n",
    "        cranes_status = \"idle\"\n",
    "        while cranes_status != \"All cranes are busy\" && cranes_status != \"Next time period\" && cranes_status != \"LS is completed\"\n",
    "            cranes_status = GRASP(tasks_by_w, bj, LS, TIME, QC, CTS)\n",
    "        end\n",
    "        next_time_period(TIME, QC);\n",
    "    end\n",
    "    println(LS)\n",
    "\n",
    "    if check_solution(LS, QC, CTS) == true\n",
    "        if (2*LS.order[end].task.t + LS.order[end].start_time) < makespan\n",
    "            makespan = (2*LS.order[end].task.t + LS.order[end].start_time)\n",
    "            best_LS = LS\n",
    "        end\n",
    "    else\n",
    "        wrong_LS = LS\n",
    "        wrong_it = iter\n",
    "    end\n",
    "end\n",
    "\n",
    "#plot_solution(best_LS, CTS)\n",
    "\n"
   ]
  },
  {
   "cell_type": "code",
   "execution_count": null,
   "metadata": {},
   "outputs": [],
   "source": [
    "makespan"
   ]
  },
  {
   "cell_type": "code",
   "execution_count": null,
   "metadata": {},
   "outputs": [],
   "source": [
    "wrong_LS"
   ]
  },
  {
   "cell_type": "code",
   "execution_count": null,
   "metadata": {},
   "outputs": [],
   "source": [
    "plot_solution(best_LS, CTS)"
   ]
  },
  {
   "cell_type": "code",
   "execution_count": null,
   "metadata": {},
   "outputs": [],
   "source": []
  }
 ],
 "metadata": {
  "kernelspec": {
   "display_name": "Julia 1.3.1",
   "language": "julia",
   "name": "julia-1.3"
  },
  "language_info": {
   "file_extension": ".jl",
   "mimetype": "application/julia",
   "name": "julia",
   "version": "1.3.1"
  }
 },
 "nbformat": 4,
 "nbformat_minor": 4
}
